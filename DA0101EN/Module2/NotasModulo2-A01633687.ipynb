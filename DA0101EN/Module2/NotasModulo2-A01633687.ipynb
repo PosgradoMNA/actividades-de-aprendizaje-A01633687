{
 "cells": [
  {
   "cell_type": "markdown",
   "id": "0834d76a",
   "metadata": {},
   "source": [
    "<h3>Alumno: Daniela Parra García</h3>\n",
    "<h3>Matricula: A01633687</h3>"
   ]
  },
  {
   "cell_type": "markdown",
   "id": "e8d6df23",
   "metadata": {},
   "source": [
    "# Notes"
   ]
  },
  {
   "cell_type": "markdown",
   "id": "c76439ba",
   "metadata": {},
   "source": [
    "Simple Dataframe Operations:<br>\n",
    "Access data of a column by column name:<br>\n",
    "df[\"columnName\"]<br>\n",
    "Add a value to each entry of a column:<br>\n",
    "df[\"columnName\"]= df[\"columnName\"] +1<br>"
   ]
  },
  {
   "cell_type": "markdown",
   "id": "5503668e",
   "metadata": {},
   "source": [
    "**Missing values:**<br>\n",
    "Represented as: ?, N/A, NaN, 0 or blank cell<br>\n",
    "\n",
    "Detect Missing values:<br>\n",
    "df.isnull()<br>\n",
    "df.notnull()<br>\n",
    "See which values are present in a particular column:<br>\n",
    "df[\"columnName\"].value_counts()<br>\n",
    "Calculate the most common type:<br>\n",
    "df[\"columnName\"].value_counts().idxmax()<br>\n",
    "Check the data type:<br>\n",
    "df.dtype()<br>\n",
    "Change the data type:<br>\n",
    "df[[\"columnName\"]].astype(\"float\")<br>\n",
    "\n",
    "*How to deal with it:*<br>\n",
    "Check with data collection<br>\n",
    "Drop missing values(the variable or the data entry)<br>\n",
    "Replace the missing values (with the average, the frecuency or based on other functions)<br>\n",
    "Leave the missing data<br>\n",
    "\n",
    "*How to drop missing values:*<br>\n",
    "Drop rows or columns that contain missing values:<br>\n",
    "df.dropna(subset=[\"columnName\"], axis=0, inplace=True)<br>\n",
    "axis=0 -> for entire row<br>\n",
    "axis=1 -> for entire columns<br>\n",
    "inplace=True -> writes the result back into the dataframe\n",
    "\n",
    "*How to replace missing values:*<br>\n",
    "Replace missing values of a column with the average:<br>\n",
    "df[\"columnName\"].replace(np.nan, df[\"columnName\"].mean() )\n",
    "df.replace(missing_value, new_value)<br>\n",
    "\n"
   ]
  },
  {
   "cell_type": "markdown",
   "id": "3da5dd2c",
   "metadata": {},
   "source": [
    "**Data Normalization**<br>\n",
    "Approaches:<br>\n",
    "Simple Feature scaling:<br>\n",
    "xnew = xold / xmax<br>\n",
    "Min-Max:<br>\n",
    "xnew = xold - xmin / xmax - xmin<br>\n",
    "Z-score:<br>\n",
    "xnew = xold - mu / sigma<br>\n",
    "\n",
    "Get the maximum value of a column:<br>\n",
    "df[\"columnName\"].max()<br>\n",
    "Get the minimum value of a column:<br>\n",
    "df[\"columnName\"].min()<br>\n",
    "Get the standard deviation value of a column:<br>\n",
    "df[\"columnName\"].std()<br>\n",
    "Get the average value of a column:<br>\n",
    "df[\"columnName\"].mean()<br>\n"
   ]
  },
  {
   "cell_type": "markdown",
   "id": "8f96830f",
   "metadata": {},
   "source": [
    "**Binning**<br>\n",
    "Grouping values into \"bins\", convert numeric into categorical values, group a set of numerical values into a set of \"bins\"<br>\n",
    "\n",
    "Implement binning:<br>\n",
    "bins = np.linspace( min(df[\"columnName\"]), max(df[\"columnName\"]), 4 )<br>\n",
    "//np.linspace( startOfValues , endOfValues, numberOfSamples )<br>\n",
    "\n",
    "groupNames = [\"One\", \"Two\", \"Three\"]<br>\n",
    "\n",
    "df[\"columnName\"] = df.cut( df[\"columnName\"], bins, labels=groupNames, include_lowest=True )<br>\n",
    "//cut is to segment and sort data values<br>\n",
    "//df.cut( arrayToBeBinned, criteriaToBin, labels=arrayOfNames, include_lowest=True )<br>\n",
    "//include_lowest is whether the first interval should be left-inclusive or not<br>\n"
   ]
  },
  {
   "cell_type": "markdown",
   "id": "ad7e5af8",
   "metadata": {},
   "source": [
    "**Categorical Variables to Quantitative variables**<br>\n",
    "Convert categorical variables to dummy variables (1 or 0):<br>\n",
    "pd.get_dummies(df[\"columnName\"])<br>"
   ]
  }
 ],
 "metadata": {
  "kernelspec": {
   "display_name": "Python 3 (ipykernel)",
   "language": "python",
   "name": "python3"
  },
  "language_info": {
   "codemirror_mode": {
    "name": "ipython",
    "version": 3
   },
   "file_extension": ".py",
   "mimetype": "text/x-python",
   "name": "python",
   "nbconvert_exporter": "python",
   "pygments_lexer": "ipython3",
   "version": "3.9.12"
  }
 },
 "nbformat": 4,
 "nbformat_minor": 5
}
