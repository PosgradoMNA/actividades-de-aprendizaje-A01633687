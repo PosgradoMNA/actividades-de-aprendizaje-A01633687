{
  "nbformat": 4,
  "nbformat_minor": 0,
  "metadata": {
    "colab": {
      "provenance": []
    },
    "kernelspec": {
      "name": "python3",
      "display_name": "Python 3"
    },
    "language_info": {
      "name": "python"
    }
  },
  "cells": [
    {
      "cell_type": "markdown",
      "metadata": {
        "id": "view-in-github"
      },
      "source": [
        "<a href=\"https://colab.research.google.com/github/PosgradoMNA/Actividades_Aprendizaje-A01794023-Andres_Palacios/blob/main/Actividad_1_Semana_3.ipynb\" target=\"_parent\"><img src=\"https://colab.research.google.com/assets/colab-badge.svg\" alt=\"Open In Colab\"/></a>"
      ]
    },
    {
      "cell_type": "markdown",
      "source": [
        "###**Actividad 1 Semana 3**\n",
        "\n",
        "###**Maestría en Inteligencia Artificial Aplicada**\n",
        "###**Curso: Ciencia y analítica de datos (Gpo 10)**\n",
        "####**Tecnológico de Monterrey**\n",
        "####**Fecha: 04 de octubre del 2022**\n",
        "####**Profesor:Jobish Vallikavungal Devassia**\n",
        "\n",
        "###**Nombre del estudiante: Jaime Andres Palacios Campaña**\n",
        "\n",
        "###**Matrícula: A01794023**\n",
        "###**Nombre del estudiante: Daniela Parra García**\n",
        "\n",
        "###**Matrícula: A01633687**"
      ],
      "metadata": {
        "id": "B-uumUut68Sv"
      }
    },
    {
      "cell_type": "markdown",
      "source": [
        "#Parte 1: Fundamentos de bases de datos\n",
        "\n",
        "**Fundamentos de bases de datos y almacenes de datos (Data Warehouse) para ciencia de datos.**\n",
        "\n",
        "Siendo la base de datos un conjunto estructurado de datos dentro de un mismo contexto que se organizan para poder dar una lectura eficiente y rápida de la información. Para la ciencia de datos el manejo de bases de datos siempre va a ser un asiduo tema en la práctica desde diseñar, crear, interactuar en la gran parte de proyectos que tienen que ver con esta ciencia. <br>\n",
        "Es importante distinguir que hay dos clasificaciones de bases de datos, las de datos relacionales y de datos no relacionales, dependiendo de su naturaleza, se entra a evaluar la tecnología para su optima gestión. \n",
        "Por otro lado, tenemos el Data Warehouse el cual es una tecnología que recolecta y analiza datos de varias fuentes. También son bases de datos, pero en éstas, no solo se compilan y organizan datos, también los agregan para un uso comercial a largo plazo. <br>\n",
        "Con el Data Warehouse se crea un sistema en el cual la información se procesa automáticamente transformándola para luego ser compartida, esta tecnología permite resolver problemas de forma más rápida y optima al centralizarse en una ubicación, permitiendo generar reportes o dashboards para las diferentes áreas de una empresa.<br>\n",
        "Existen dos importantes tipos de procesos de integración de datos los cuales se utilizan para agregar datos al Data Warehouse: ETL (Extract, Transform, Load) y ELT (Extract, Load, Transform). La principal diferencia entre estos es, como el significado de sus siglas lo dice, el orden en que se realizan estas acciones, en este último, la transformación de los datos es el paso final por lo que los datos se cargan directamente, este proceso es el más reciente y se cree que es además más eficiente que el primero.<br>\n",
        "\n"
      ],
      "metadata": {
        "id": "LEsCNzv6XbA_"
      }
    },
    {
      "cell_type": "markdown",
      "source": [
        "#Parte 2: Selección y limpieza de los Datos en Python"
      ],
      "metadata": {
        "id": "hPyehdZwXgn7"
      }
    },
    {
      "cell_type": "code",
      "source": [
        "#Importamos las librerias Pandas y Numpy\n",
        "import pandas as pd\n",
        "import numpy as np\n",
        "\n",
        "#Importamos la bd y usamos pd para leerlo\n",
        "input = 'https://raw.githubusercontent.com/PosgradoMNA/Actividades_Aprendizaje-/main/default%20of%20credit%20card%20clients.csv'\n",
        "\n",
        "df = pd.read_csv(input)\n",
        "df"
      ],
      "metadata": {
        "colab": {
          "base_uri": "https://localhost:8080/",
          "height": 424
        },
        "id": "wVnlYsoe7xYG",
        "outputId": "ec8c86aa-6174-4303-c3ae-8bc3696c7c0e"
      },
      "execution_count": 1,
      "outputs": [
        {
          "output_type": "execute_result",
          "data": {
            "text/plain": [
              "          ID      X1   X2   X3   X4    X5   X6   X7   X8   X9  ...      X15  \\\n",
              "0          1   20000  2.0  2.0  1.0  24.0  2.0  2.0 -1.0 -1.0  ...      0.0   \n",
              "1          2  120000  2.0  2.0  2.0  26.0 -1.0  2.0  0.0  0.0  ...   3272.0   \n",
              "2          3   90000  2.0  2.0  2.0  34.0  0.0  0.0  0.0  0.0  ...  14331.0   \n",
              "3          4   50000  2.0  2.0  1.0  37.0  0.0  0.0  0.0  0.0  ...  28314.0   \n",
              "4          5   50000  1.0  2.0  1.0  57.0 -1.0  0.0 -1.0  0.0  ...  20940.0   \n",
              "...      ...     ...  ...  ...  ...   ...  ...  ...  ...  ...  ...      ...   \n",
              "29995  29996  220000  1.0  3.0  1.0  39.0  0.0  0.0  0.0  0.0  ...  88004.0   \n",
              "29996  29997  150000  1.0  3.0  2.0  43.0 -1.0 -1.0 -1.0 -1.0  ...   8979.0   \n",
              "29997  29998   30000  1.0  2.0  2.0  37.0  4.0  3.0  2.0 -1.0  ...  20878.0   \n",
              "29998  29999   80000  1.0  3.0  1.0  41.0  1.0 -1.0  0.0  0.0  ...  52774.0   \n",
              "29999  30000   50000  1.0  2.0  1.0  46.0  0.0  0.0  0.0  0.0  ...  36535.0   \n",
              "\n",
              "           X16      X17      X18      X19      X20     X21      X22     X23  \\\n",
              "0          0.0      0.0      0.0    689.0      0.0     0.0      0.0     0.0   \n",
              "1       3455.0   3261.0      0.0   1000.0   1000.0  1000.0      0.0  2000.0   \n",
              "2      14948.0  15549.0   1518.0   1500.0   1000.0  1000.0   1000.0  5000.0   \n",
              "3      28959.0  29547.0   2000.0   2019.0   1200.0  1100.0   1069.0  1000.0   \n",
              "4      19146.0  19131.0   2000.0  36681.0  10000.0  9000.0    689.0   679.0   \n",
              "...        ...      ...      ...      ...      ...     ...      ...     ...   \n",
              "29995  31237.0  15980.0   8500.0  20000.0   5003.0  3047.0   5000.0  1000.0   \n",
              "29996   5190.0      0.0   1837.0   3526.0   8998.0   129.0      0.0     0.0   \n",
              "29997  20582.0  19357.0      0.0      0.0  22000.0  4200.0   2000.0  3100.0   \n",
              "29998  11855.0  48944.0  85900.0   3409.0   1178.0  1926.0  52964.0  1804.0   \n",
              "29999  32428.0  15313.0   2078.0   1800.0   1430.0  1000.0   1000.0  1000.0   \n",
              "\n",
              "         Y  \n",
              "0      1.0  \n",
              "1      1.0  \n",
              "2      0.0  \n",
              "3      0.0  \n",
              "4      0.0  \n",
              "...    ...  \n",
              "29995  0.0  \n",
              "29996  0.0  \n",
              "29997  1.0  \n",
              "29998  1.0  \n",
              "29999  1.0  \n",
              "\n",
              "[30000 rows x 25 columns]"
            ],
            "text/html": [
              "\n",
              "  <div id=\"df-0f121dbc-6e6a-465f-bdb0-5f7d32012502\">\n",
              "    <div class=\"colab-df-container\">\n",
              "      <div>\n",
              "<style scoped>\n",
              "    .dataframe tbody tr th:only-of-type {\n",
              "        vertical-align: middle;\n",
              "    }\n",
              "\n",
              "    .dataframe tbody tr th {\n",
              "        vertical-align: top;\n",
              "    }\n",
              "\n",
              "    .dataframe thead th {\n",
              "        text-align: right;\n",
              "    }\n",
              "</style>\n",
              "<table border=\"1\" class=\"dataframe\">\n",
              "  <thead>\n",
              "    <tr style=\"text-align: right;\">\n",
              "      <th></th>\n",
              "      <th>ID</th>\n",
              "      <th>X1</th>\n",
              "      <th>X2</th>\n",
              "      <th>X3</th>\n",
              "      <th>X4</th>\n",
              "      <th>X5</th>\n",
              "      <th>X6</th>\n",
              "      <th>X7</th>\n",
              "      <th>X8</th>\n",
              "      <th>X9</th>\n",
              "      <th>...</th>\n",
              "      <th>X15</th>\n",
              "      <th>X16</th>\n",
              "      <th>X17</th>\n",
              "      <th>X18</th>\n",
              "      <th>X19</th>\n",
              "      <th>X20</th>\n",
              "      <th>X21</th>\n",
              "      <th>X22</th>\n",
              "      <th>X23</th>\n",
              "      <th>Y</th>\n",
              "    </tr>\n",
              "  </thead>\n",
              "  <tbody>\n",
              "    <tr>\n",
              "      <th>0</th>\n",
              "      <td>1</td>\n",
              "      <td>20000</td>\n",
              "      <td>2.0</td>\n",
              "      <td>2.0</td>\n",
              "      <td>1.0</td>\n",
              "      <td>24.0</td>\n",
              "      <td>2.0</td>\n",
              "      <td>2.0</td>\n",
              "      <td>-1.0</td>\n",
              "      <td>-1.0</td>\n",
              "      <td>...</td>\n",
              "      <td>0.0</td>\n",
              "      <td>0.0</td>\n",
              "      <td>0.0</td>\n",
              "      <td>0.0</td>\n",
              "      <td>689.0</td>\n",
              "      <td>0.0</td>\n",
              "      <td>0.0</td>\n",
              "      <td>0.0</td>\n",
              "      <td>0.0</td>\n",
              "      <td>1.0</td>\n",
              "    </tr>\n",
              "    <tr>\n",
              "      <th>1</th>\n",
              "      <td>2</td>\n",
              "      <td>120000</td>\n",
              "      <td>2.0</td>\n",
              "      <td>2.0</td>\n",
              "      <td>2.0</td>\n",
              "      <td>26.0</td>\n",
              "      <td>-1.0</td>\n",
              "      <td>2.0</td>\n",
              "      <td>0.0</td>\n",
              "      <td>0.0</td>\n",
              "      <td>...</td>\n",
              "      <td>3272.0</td>\n",
              "      <td>3455.0</td>\n",
              "      <td>3261.0</td>\n",
              "      <td>0.0</td>\n",
              "      <td>1000.0</td>\n",
              "      <td>1000.0</td>\n",
              "      <td>1000.0</td>\n",
              "      <td>0.0</td>\n",
              "      <td>2000.0</td>\n",
              "      <td>1.0</td>\n",
              "    </tr>\n",
              "    <tr>\n",
              "      <th>2</th>\n",
              "      <td>3</td>\n",
              "      <td>90000</td>\n",
              "      <td>2.0</td>\n",
              "      <td>2.0</td>\n",
              "      <td>2.0</td>\n",
              "      <td>34.0</td>\n",
              "      <td>0.0</td>\n",
              "      <td>0.0</td>\n",
              "      <td>0.0</td>\n",
              "      <td>0.0</td>\n",
              "      <td>...</td>\n",
              "      <td>14331.0</td>\n",
              "      <td>14948.0</td>\n",
              "      <td>15549.0</td>\n",
              "      <td>1518.0</td>\n",
              "      <td>1500.0</td>\n",
              "      <td>1000.0</td>\n",
              "      <td>1000.0</td>\n",
              "      <td>1000.0</td>\n",
              "      <td>5000.0</td>\n",
              "      <td>0.0</td>\n",
              "    </tr>\n",
              "    <tr>\n",
              "      <th>3</th>\n",
              "      <td>4</td>\n",
              "      <td>50000</td>\n",
              "      <td>2.0</td>\n",
              "      <td>2.0</td>\n",
              "      <td>1.0</td>\n",
              "      <td>37.0</td>\n",
              "      <td>0.0</td>\n",
              "      <td>0.0</td>\n",
              "      <td>0.0</td>\n",
              "      <td>0.0</td>\n",
              "      <td>...</td>\n",
              "      <td>28314.0</td>\n",
              "      <td>28959.0</td>\n",
              "      <td>29547.0</td>\n",
              "      <td>2000.0</td>\n",
              "      <td>2019.0</td>\n",
              "      <td>1200.0</td>\n",
              "      <td>1100.0</td>\n",
              "      <td>1069.0</td>\n",
              "      <td>1000.0</td>\n",
              "      <td>0.0</td>\n",
              "    </tr>\n",
              "    <tr>\n",
              "      <th>4</th>\n",
              "      <td>5</td>\n",
              "      <td>50000</td>\n",
              "      <td>1.0</td>\n",
              "      <td>2.0</td>\n",
              "      <td>1.0</td>\n",
              "      <td>57.0</td>\n",
              "      <td>-1.0</td>\n",
              "      <td>0.0</td>\n",
              "      <td>-1.0</td>\n",
              "      <td>0.0</td>\n",
              "      <td>...</td>\n",
              "      <td>20940.0</td>\n",
              "      <td>19146.0</td>\n",
              "      <td>19131.0</td>\n",
              "      <td>2000.0</td>\n",
              "      <td>36681.0</td>\n",
              "      <td>10000.0</td>\n",
              "      <td>9000.0</td>\n",
              "      <td>689.0</td>\n",
              "      <td>679.0</td>\n",
              "      <td>0.0</td>\n",
              "    </tr>\n",
              "    <tr>\n",
              "      <th>...</th>\n",
              "      <td>...</td>\n",
              "      <td>...</td>\n",
              "      <td>...</td>\n",
              "      <td>...</td>\n",
              "      <td>...</td>\n",
              "      <td>...</td>\n",
              "      <td>...</td>\n",
              "      <td>...</td>\n",
              "      <td>...</td>\n",
              "      <td>...</td>\n",
              "      <td>...</td>\n",
              "      <td>...</td>\n",
              "      <td>...</td>\n",
              "      <td>...</td>\n",
              "      <td>...</td>\n",
              "      <td>...</td>\n",
              "      <td>...</td>\n",
              "      <td>...</td>\n",
              "      <td>...</td>\n",
              "      <td>...</td>\n",
              "      <td>...</td>\n",
              "    </tr>\n",
              "    <tr>\n",
              "      <th>29995</th>\n",
              "      <td>29996</td>\n",
              "      <td>220000</td>\n",
              "      <td>1.0</td>\n",
              "      <td>3.0</td>\n",
              "      <td>1.0</td>\n",
              "      <td>39.0</td>\n",
              "      <td>0.0</td>\n",
              "      <td>0.0</td>\n",
              "      <td>0.0</td>\n",
              "      <td>0.0</td>\n",
              "      <td>...</td>\n",
              "      <td>88004.0</td>\n",
              "      <td>31237.0</td>\n",
              "      <td>15980.0</td>\n",
              "      <td>8500.0</td>\n",
              "      <td>20000.0</td>\n",
              "      <td>5003.0</td>\n",
              "      <td>3047.0</td>\n",
              "      <td>5000.0</td>\n",
              "      <td>1000.0</td>\n",
              "      <td>0.0</td>\n",
              "    </tr>\n",
              "    <tr>\n",
              "      <th>29996</th>\n",
              "      <td>29997</td>\n",
              "      <td>150000</td>\n",
              "      <td>1.0</td>\n",
              "      <td>3.0</td>\n",
              "      <td>2.0</td>\n",
              "      <td>43.0</td>\n",
              "      <td>-1.0</td>\n",
              "      <td>-1.0</td>\n",
              "      <td>-1.0</td>\n",
              "      <td>-1.0</td>\n",
              "      <td>...</td>\n",
              "      <td>8979.0</td>\n",
              "      <td>5190.0</td>\n",
              "      <td>0.0</td>\n",
              "      <td>1837.0</td>\n",
              "      <td>3526.0</td>\n",
              "      <td>8998.0</td>\n",
              "      <td>129.0</td>\n",
              "      <td>0.0</td>\n",
              "      <td>0.0</td>\n",
              "      <td>0.0</td>\n",
              "    </tr>\n",
              "    <tr>\n",
              "      <th>29997</th>\n",
              "      <td>29998</td>\n",
              "      <td>30000</td>\n",
              "      <td>1.0</td>\n",
              "      <td>2.0</td>\n",
              "      <td>2.0</td>\n",
              "      <td>37.0</td>\n",
              "      <td>4.0</td>\n",
              "      <td>3.0</td>\n",
              "      <td>2.0</td>\n",
              "      <td>-1.0</td>\n",
              "      <td>...</td>\n",
              "      <td>20878.0</td>\n",
              "      <td>20582.0</td>\n",
              "      <td>19357.0</td>\n",
              "      <td>0.0</td>\n",
              "      <td>0.0</td>\n",
              "      <td>22000.0</td>\n",
              "      <td>4200.0</td>\n",
              "      <td>2000.0</td>\n",
              "      <td>3100.0</td>\n",
              "      <td>1.0</td>\n",
              "    </tr>\n",
              "    <tr>\n",
              "      <th>29998</th>\n",
              "      <td>29999</td>\n",
              "      <td>80000</td>\n",
              "      <td>1.0</td>\n",
              "      <td>3.0</td>\n",
              "      <td>1.0</td>\n",
              "      <td>41.0</td>\n",
              "      <td>1.0</td>\n",
              "      <td>-1.0</td>\n",
              "      <td>0.0</td>\n",
              "      <td>0.0</td>\n",
              "      <td>...</td>\n",
              "      <td>52774.0</td>\n",
              "      <td>11855.0</td>\n",
              "      <td>48944.0</td>\n",
              "      <td>85900.0</td>\n",
              "      <td>3409.0</td>\n",
              "      <td>1178.0</td>\n",
              "      <td>1926.0</td>\n",
              "      <td>52964.0</td>\n",
              "      <td>1804.0</td>\n",
              "      <td>1.0</td>\n",
              "    </tr>\n",
              "    <tr>\n",
              "      <th>29999</th>\n",
              "      <td>30000</td>\n",
              "      <td>50000</td>\n",
              "      <td>1.0</td>\n",
              "      <td>2.0</td>\n",
              "      <td>1.0</td>\n",
              "      <td>46.0</td>\n",
              "      <td>0.0</td>\n",
              "      <td>0.0</td>\n",
              "      <td>0.0</td>\n",
              "      <td>0.0</td>\n",
              "      <td>...</td>\n",
              "      <td>36535.0</td>\n",
              "      <td>32428.0</td>\n",
              "      <td>15313.0</td>\n",
              "      <td>2078.0</td>\n",
              "      <td>1800.0</td>\n",
              "      <td>1430.0</td>\n",
              "      <td>1000.0</td>\n",
              "      <td>1000.0</td>\n",
              "      <td>1000.0</td>\n",
              "      <td>1.0</td>\n",
              "    </tr>\n",
              "  </tbody>\n",
              "</table>\n",
              "<p>30000 rows × 25 columns</p>\n",
              "</div>\n",
              "      <button class=\"colab-df-convert\" onclick=\"convertToInteractive('df-0f121dbc-6e6a-465f-bdb0-5f7d32012502')\"\n",
              "              title=\"Convert this dataframe to an interactive table.\"\n",
              "              style=\"display:none;\">\n",
              "        \n",
              "  <svg xmlns=\"http://www.w3.org/2000/svg\" height=\"24px\"viewBox=\"0 0 24 24\"\n",
              "       width=\"24px\">\n",
              "    <path d=\"M0 0h24v24H0V0z\" fill=\"none\"/>\n",
              "    <path d=\"M18.56 5.44l.94 2.06.94-2.06 2.06-.94-2.06-.94-.94-2.06-.94 2.06-2.06.94zm-11 1L8.5 8.5l.94-2.06 2.06-.94-2.06-.94L8.5 2.5l-.94 2.06-2.06.94zm10 10l.94 2.06.94-2.06 2.06-.94-2.06-.94-.94-2.06-.94 2.06-2.06.94z\"/><path d=\"M17.41 7.96l-1.37-1.37c-.4-.4-.92-.59-1.43-.59-.52 0-1.04.2-1.43.59L10.3 9.45l-7.72 7.72c-.78.78-.78 2.05 0 2.83L4 21.41c.39.39.9.59 1.41.59.51 0 1.02-.2 1.41-.59l7.78-7.78 2.81-2.81c.8-.78.8-2.07 0-2.86zM5.41 20L4 18.59l7.72-7.72 1.47 1.35L5.41 20z\"/>\n",
              "  </svg>\n",
              "      </button>\n",
              "      \n",
              "  <style>\n",
              "    .colab-df-container {\n",
              "      display:flex;\n",
              "      flex-wrap:wrap;\n",
              "      gap: 12px;\n",
              "    }\n",
              "\n",
              "    .colab-df-convert {\n",
              "      background-color: #E8F0FE;\n",
              "      border: none;\n",
              "      border-radius: 50%;\n",
              "      cursor: pointer;\n",
              "      display: none;\n",
              "      fill: #1967D2;\n",
              "      height: 32px;\n",
              "      padding: 0 0 0 0;\n",
              "      width: 32px;\n",
              "    }\n",
              "\n",
              "    .colab-df-convert:hover {\n",
              "      background-color: #E2EBFA;\n",
              "      box-shadow: 0px 1px 2px rgba(60, 64, 67, 0.3), 0px 1px 3px 1px rgba(60, 64, 67, 0.15);\n",
              "      fill: #174EA6;\n",
              "    }\n",
              "\n",
              "    [theme=dark] .colab-df-convert {\n",
              "      background-color: #3B4455;\n",
              "      fill: #D2E3FC;\n",
              "    }\n",
              "\n",
              "    [theme=dark] .colab-df-convert:hover {\n",
              "      background-color: #434B5C;\n",
              "      box-shadow: 0px 1px 3px 1px rgba(0, 0, 0, 0.15);\n",
              "      filter: drop-shadow(0px 1px 2px rgba(0, 0, 0, 0.3));\n",
              "      fill: #FFFFFF;\n",
              "    }\n",
              "  </style>\n",
              "\n",
              "      <script>\n",
              "        const buttonEl =\n",
              "          document.querySelector('#df-0f121dbc-6e6a-465f-bdb0-5f7d32012502 button.colab-df-convert');\n",
              "        buttonEl.style.display =\n",
              "          google.colab.kernel.accessAllowed ? 'block' : 'none';\n",
              "\n",
              "        async function convertToInteractive(key) {\n",
              "          const element = document.querySelector('#df-0f121dbc-6e6a-465f-bdb0-5f7d32012502');\n",
              "          const dataTable =\n",
              "            await google.colab.kernel.invokeFunction('convertToInteractive',\n",
              "                                                     [key], {});\n",
              "          if (!dataTable) return;\n",
              "\n",
              "          const docLinkHtml = 'Like what you see? Visit the ' +\n",
              "            '<a target=\"_blank\" href=https://colab.research.google.com/notebooks/data_table.ipynb>data table notebook</a>'\n",
              "            + ' to learn more about interactive tables.';\n",
              "          element.innerHTML = '';\n",
              "          dataTable['output_type'] = 'display_data';\n",
              "          await google.colab.output.renderOutput(dataTable, element);\n",
              "          const docLink = document.createElement('div');\n",
              "          docLink.innerHTML = docLinkHtml;\n",
              "          element.appendChild(docLink);\n",
              "        }\n",
              "      </script>\n",
              "    </div>\n",
              "  </div>\n",
              "  "
            ]
          },
          "metadata": {},
          "execution_count": 1
        }
      ]
    },
    {
      "cell_type": "code",
      "source": [
        "df.describe() # revisamos la descripción de los datos"
      ],
      "metadata": {
        "colab": {
          "base_uri": "https://localhost:8080/",
          "height": 393
        },
        "id": "yi8irFozSUKh",
        "outputId": "b0ebf7e8-61b8-4999-a8d4-c2fb9c5e244c"
      },
      "execution_count": 2,
      "outputs": [
        {
          "output_type": "execute_result",
          "data": {
            "text/plain": [
              "                 ID              X1            X2            X3            X4  \\\n",
              "count  30000.000000    30000.000000  29999.000000  29998.000000  29998.000000   \n",
              "mean   15000.500000   167484.322667      1.603753      1.853057      1.551903   \n",
              "std     8660.398374   129747.661567      0.489125      0.790320      0.521968   \n",
              "min        1.000000    10000.000000      1.000000      0.000000      0.000000   \n",
              "25%     7500.750000    50000.000000      1.000000      1.000000      1.000000   \n",
              "50%    15000.500000   140000.000000      2.000000      2.000000      2.000000   \n",
              "75%    22500.250000   240000.000000      2.000000      2.000000      2.000000   \n",
              "max    30000.000000  1000000.000000      2.000000      6.000000      3.000000   \n",
              "\n",
              "                 X5            X6            X7            X8            X9  \\\n",
              "count  29995.000000  29997.000000  29995.000000  29993.000000  29991.000000   \n",
              "mean      35.484214     -0.016635     -0.133689     -0.166405     -0.220800   \n",
              "std        9.218024      1.123829      1.197254      1.196048      1.169153   \n",
              "min       21.000000     -2.000000     -2.000000     -2.000000     -2.000000   \n",
              "25%       28.000000     -1.000000     -1.000000     -1.000000     -1.000000   \n",
              "50%       34.000000      0.000000      0.000000      0.000000      0.000000   \n",
              "75%       41.000000      0.000000      0.000000      0.000000      0.000000   \n",
              "max       79.000000      8.000000      8.000000      8.000000      8.000000   \n",
              "\n",
              "       ...            X15            X16            X17            X18  \\\n",
              "count  ...   29985.000000   29983.000000   29990.000000   29992.000000   \n",
              "mean   ...   43275.652326   40324.493980   38881.135745    5662.945886   \n",
              "std    ...   64345.500073   60809.984983   59561.312967   16564.165089   \n",
              "min    ... -170000.000000  -81334.000000 -339603.000000       0.000000   \n",
              "25%    ...    2329.000000    1763.500000    1256.250000    1000.000000   \n",
              "50%    ...   19052.000000   18107.000000   17081.000000    2100.000000   \n",
              "75%    ...   54560.000000   50213.000000   49208.250000    5006.000000   \n",
              "max    ...  891586.000000  927171.000000  961664.000000  873552.000000   \n",
              "\n",
              "                X19            X20            X21            X22  \\\n",
              "count  2.999100e+04   29992.000000   29989.000000   29989.000000   \n",
              "mean   5.922489e+03    5225.623400    4827.252526    4800.297209   \n",
              "std    2.304418e+04   17608.422625   15668.751975   15280.842069   \n",
              "min    0.000000e+00       0.000000       0.000000       0.000000   \n",
              "25%    8.355000e+02     390.000000     296.000000     251.000000   \n",
              "50%    2.009000e+03    1800.000000    1500.000000    1500.000000   \n",
              "75%    5.000000e+03    4505.500000    4014.000000    4033.000000   \n",
              "max    1.684259e+06  896040.000000  621000.000000  426529.000000   \n",
              "\n",
              "                 X23             Y  \n",
              "count   29995.000000  29997.000000  \n",
              "mean     5216.259977      0.221189  \n",
              "std     17778.848359      0.415054  \n",
              "min         0.000000      0.000000  \n",
              "25%       118.000000      0.000000  \n",
              "50%      1500.000000      0.000000  \n",
              "75%      4000.000000      0.000000  \n",
              "max    528666.000000      1.000000  \n",
              "\n",
              "[8 rows x 25 columns]"
            ],
            "text/html": [
              "\n",
              "  <div id=\"df-b4f552cb-2472-4d67-9d3f-2b6402396b08\">\n",
              "    <div class=\"colab-df-container\">\n",
              "      <div>\n",
              "<style scoped>\n",
              "    .dataframe tbody tr th:only-of-type {\n",
              "        vertical-align: middle;\n",
              "    }\n",
              "\n",
              "    .dataframe tbody tr th {\n",
              "        vertical-align: top;\n",
              "    }\n",
              "\n",
              "    .dataframe thead th {\n",
              "        text-align: right;\n",
              "    }\n",
              "</style>\n",
              "<table border=\"1\" class=\"dataframe\">\n",
              "  <thead>\n",
              "    <tr style=\"text-align: right;\">\n",
              "      <th></th>\n",
              "      <th>ID</th>\n",
              "      <th>X1</th>\n",
              "      <th>X2</th>\n",
              "      <th>X3</th>\n",
              "      <th>X4</th>\n",
              "      <th>X5</th>\n",
              "      <th>X6</th>\n",
              "      <th>X7</th>\n",
              "      <th>X8</th>\n",
              "      <th>X9</th>\n",
              "      <th>...</th>\n",
              "      <th>X15</th>\n",
              "      <th>X16</th>\n",
              "      <th>X17</th>\n",
              "      <th>X18</th>\n",
              "      <th>X19</th>\n",
              "      <th>X20</th>\n",
              "      <th>X21</th>\n",
              "      <th>X22</th>\n",
              "      <th>X23</th>\n",
              "      <th>Y</th>\n",
              "    </tr>\n",
              "  </thead>\n",
              "  <tbody>\n",
              "    <tr>\n",
              "      <th>count</th>\n",
              "      <td>30000.000000</td>\n",
              "      <td>30000.000000</td>\n",
              "      <td>29999.000000</td>\n",
              "      <td>29998.000000</td>\n",
              "      <td>29998.000000</td>\n",
              "      <td>29995.000000</td>\n",
              "      <td>29997.000000</td>\n",
              "      <td>29995.000000</td>\n",
              "      <td>29993.000000</td>\n",
              "      <td>29991.000000</td>\n",
              "      <td>...</td>\n",
              "      <td>29985.000000</td>\n",
              "      <td>29983.000000</td>\n",
              "      <td>29990.000000</td>\n",
              "      <td>29992.000000</td>\n",
              "      <td>2.999100e+04</td>\n",
              "      <td>29992.000000</td>\n",
              "      <td>29989.000000</td>\n",
              "      <td>29989.000000</td>\n",
              "      <td>29995.000000</td>\n",
              "      <td>29997.000000</td>\n",
              "    </tr>\n",
              "    <tr>\n",
              "      <th>mean</th>\n",
              "      <td>15000.500000</td>\n",
              "      <td>167484.322667</td>\n",
              "      <td>1.603753</td>\n",
              "      <td>1.853057</td>\n",
              "      <td>1.551903</td>\n",
              "      <td>35.484214</td>\n",
              "      <td>-0.016635</td>\n",
              "      <td>-0.133689</td>\n",
              "      <td>-0.166405</td>\n",
              "      <td>-0.220800</td>\n",
              "      <td>...</td>\n",
              "      <td>43275.652326</td>\n",
              "      <td>40324.493980</td>\n",
              "      <td>38881.135745</td>\n",
              "      <td>5662.945886</td>\n",
              "      <td>5.922489e+03</td>\n",
              "      <td>5225.623400</td>\n",
              "      <td>4827.252526</td>\n",
              "      <td>4800.297209</td>\n",
              "      <td>5216.259977</td>\n",
              "      <td>0.221189</td>\n",
              "    </tr>\n",
              "    <tr>\n",
              "      <th>std</th>\n",
              "      <td>8660.398374</td>\n",
              "      <td>129747.661567</td>\n",
              "      <td>0.489125</td>\n",
              "      <td>0.790320</td>\n",
              "      <td>0.521968</td>\n",
              "      <td>9.218024</td>\n",
              "      <td>1.123829</td>\n",
              "      <td>1.197254</td>\n",
              "      <td>1.196048</td>\n",
              "      <td>1.169153</td>\n",
              "      <td>...</td>\n",
              "      <td>64345.500073</td>\n",
              "      <td>60809.984983</td>\n",
              "      <td>59561.312967</td>\n",
              "      <td>16564.165089</td>\n",
              "      <td>2.304418e+04</td>\n",
              "      <td>17608.422625</td>\n",
              "      <td>15668.751975</td>\n",
              "      <td>15280.842069</td>\n",
              "      <td>17778.848359</td>\n",
              "      <td>0.415054</td>\n",
              "    </tr>\n",
              "    <tr>\n",
              "      <th>min</th>\n",
              "      <td>1.000000</td>\n",
              "      <td>10000.000000</td>\n",
              "      <td>1.000000</td>\n",
              "      <td>0.000000</td>\n",
              "      <td>0.000000</td>\n",
              "      <td>21.000000</td>\n",
              "      <td>-2.000000</td>\n",
              "      <td>-2.000000</td>\n",
              "      <td>-2.000000</td>\n",
              "      <td>-2.000000</td>\n",
              "      <td>...</td>\n",
              "      <td>-170000.000000</td>\n",
              "      <td>-81334.000000</td>\n",
              "      <td>-339603.000000</td>\n",
              "      <td>0.000000</td>\n",
              "      <td>0.000000e+00</td>\n",
              "      <td>0.000000</td>\n",
              "      <td>0.000000</td>\n",
              "      <td>0.000000</td>\n",
              "      <td>0.000000</td>\n",
              "      <td>0.000000</td>\n",
              "    </tr>\n",
              "    <tr>\n",
              "      <th>25%</th>\n",
              "      <td>7500.750000</td>\n",
              "      <td>50000.000000</td>\n",
              "      <td>1.000000</td>\n",
              "      <td>1.000000</td>\n",
              "      <td>1.000000</td>\n",
              "      <td>28.000000</td>\n",
              "      <td>-1.000000</td>\n",
              "      <td>-1.000000</td>\n",
              "      <td>-1.000000</td>\n",
              "      <td>-1.000000</td>\n",
              "      <td>...</td>\n",
              "      <td>2329.000000</td>\n",
              "      <td>1763.500000</td>\n",
              "      <td>1256.250000</td>\n",
              "      <td>1000.000000</td>\n",
              "      <td>8.355000e+02</td>\n",
              "      <td>390.000000</td>\n",
              "      <td>296.000000</td>\n",
              "      <td>251.000000</td>\n",
              "      <td>118.000000</td>\n",
              "      <td>0.000000</td>\n",
              "    </tr>\n",
              "    <tr>\n",
              "      <th>50%</th>\n",
              "      <td>15000.500000</td>\n",
              "      <td>140000.000000</td>\n",
              "      <td>2.000000</td>\n",
              "      <td>2.000000</td>\n",
              "      <td>2.000000</td>\n",
              "      <td>34.000000</td>\n",
              "      <td>0.000000</td>\n",
              "      <td>0.000000</td>\n",
              "      <td>0.000000</td>\n",
              "      <td>0.000000</td>\n",
              "      <td>...</td>\n",
              "      <td>19052.000000</td>\n",
              "      <td>18107.000000</td>\n",
              "      <td>17081.000000</td>\n",
              "      <td>2100.000000</td>\n",
              "      <td>2.009000e+03</td>\n",
              "      <td>1800.000000</td>\n",
              "      <td>1500.000000</td>\n",
              "      <td>1500.000000</td>\n",
              "      <td>1500.000000</td>\n",
              "      <td>0.000000</td>\n",
              "    </tr>\n",
              "    <tr>\n",
              "      <th>75%</th>\n",
              "      <td>22500.250000</td>\n",
              "      <td>240000.000000</td>\n",
              "      <td>2.000000</td>\n",
              "      <td>2.000000</td>\n",
              "      <td>2.000000</td>\n",
              "      <td>41.000000</td>\n",
              "      <td>0.000000</td>\n",
              "      <td>0.000000</td>\n",
              "      <td>0.000000</td>\n",
              "      <td>0.000000</td>\n",
              "      <td>...</td>\n",
              "      <td>54560.000000</td>\n",
              "      <td>50213.000000</td>\n",
              "      <td>49208.250000</td>\n",
              "      <td>5006.000000</td>\n",
              "      <td>5.000000e+03</td>\n",
              "      <td>4505.500000</td>\n",
              "      <td>4014.000000</td>\n",
              "      <td>4033.000000</td>\n",
              "      <td>4000.000000</td>\n",
              "      <td>0.000000</td>\n",
              "    </tr>\n",
              "    <tr>\n",
              "      <th>max</th>\n",
              "      <td>30000.000000</td>\n",
              "      <td>1000000.000000</td>\n",
              "      <td>2.000000</td>\n",
              "      <td>6.000000</td>\n",
              "      <td>3.000000</td>\n",
              "      <td>79.000000</td>\n",
              "      <td>8.000000</td>\n",
              "      <td>8.000000</td>\n",
              "      <td>8.000000</td>\n",
              "      <td>8.000000</td>\n",
              "      <td>...</td>\n",
              "      <td>891586.000000</td>\n",
              "      <td>927171.000000</td>\n",
              "      <td>961664.000000</td>\n",
              "      <td>873552.000000</td>\n",
              "      <td>1.684259e+06</td>\n",
              "      <td>896040.000000</td>\n",
              "      <td>621000.000000</td>\n",
              "      <td>426529.000000</td>\n",
              "      <td>528666.000000</td>\n",
              "      <td>1.000000</td>\n",
              "    </tr>\n",
              "  </tbody>\n",
              "</table>\n",
              "<p>8 rows × 25 columns</p>\n",
              "</div>\n",
              "      <button class=\"colab-df-convert\" onclick=\"convertToInteractive('df-b4f552cb-2472-4d67-9d3f-2b6402396b08')\"\n",
              "              title=\"Convert this dataframe to an interactive table.\"\n",
              "              style=\"display:none;\">\n",
              "        \n",
              "  <svg xmlns=\"http://www.w3.org/2000/svg\" height=\"24px\"viewBox=\"0 0 24 24\"\n",
              "       width=\"24px\">\n",
              "    <path d=\"M0 0h24v24H0V0z\" fill=\"none\"/>\n",
              "    <path d=\"M18.56 5.44l.94 2.06.94-2.06 2.06-.94-2.06-.94-.94-2.06-.94 2.06-2.06.94zm-11 1L8.5 8.5l.94-2.06 2.06-.94-2.06-.94L8.5 2.5l-.94 2.06-2.06.94zm10 10l.94 2.06.94-2.06 2.06-.94-2.06-.94-.94-2.06-.94 2.06-2.06.94z\"/><path d=\"M17.41 7.96l-1.37-1.37c-.4-.4-.92-.59-1.43-.59-.52 0-1.04.2-1.43.59L10.3 9.45l-7.72 7.72c-.78.78-.78 2.05 0 2.83L4 21.41c.39.39.9.59 1.41.59.51 0 1.02-.2 1.41-.59l7.78-7.78 2.81-2.81c.8-.78.8-2.07 0-2.86zM5.41 20L4 18.59l7.72-7.72 1.47 1.35L5.41 20z\"/>\n",
              "  </svg>\n",
              "      </button>\n",
              "      \n",
              "  <style>\n",
              "    .colab-df-container {\n",
              "      display:flex;\n",
              "      flex-wrap:wrap;\n",
              "      gap: 12px;\n",
              "    }\n",
              "\n",
              "    .colab-df-convert {\n",
              "      background-color: #E8F0FE;\n",
              "      border: none;\n",
              "      border-radius: 50%;\n",
              "      cursor: pointer;\n",
              "      display: none;\n",
              "      fill: #1967D2;\n",
              "      height: 32px;\n",
              "      padding: 0 0 0 0;\n",
              "      width: 32px;\n",
              "    }\n",
              "\n",
              "    .colab-df-convert:hover {\n",
              "      background-color: #E2EBFA;\n",
              "      box-shadow: 0px 1px 2px rgba(60, 64, 67, 0.3), 0px 1px 3px 1px rgba(60, 64, 67, 0.15);\n",
              "      fill: #174EA6;\n",
              "    }\n",
              "\n",
              "    [theme=dark] .colab-df-convert {\n",
              "      background-color: #3B4455;\n",
              "      fill: #D2E3FC;\n",
              "    }\n",
              "\n",
              "    [theme=dark] .colab-df-convert:hover {\n",
              "      background-color: #434B5C;\n",
              "      box-shadow: 0px 1px 3px 1px rgba(0, 0, 0, 0.15);\n",
              "      filter: drop-shadow(0px 1px 2px rgba(0, 0, 0, 0.3));\n",
              "      fill: #FFFFFF;\n",
              "    }\n",
              "  </style>\n",
              "\n",
              "      <script>\n",
              "        const buttonEl =\n",
              "          document.querySelector('#df-b4f552cb-2472-4d67-9d3f-2b6402396b08 button.colab-df-convert');\n",
              "        buttonEl.style.display =\n",
              "          google.colab.kernel.accessAllowed ? 'block' : 'none';\n",
              "\n",
              "        async function convertToInteractive(key) {\n",
              "          const element = document.querySelector('#df-b4f552cb-2472-4d67-9d3f-2b6402396b08');\n",
              "          const dataTable =\n",
              "            await google.colab.kernel.invokeFunction('convertToInteractive',\n",
              "                                                     [key], {});\n",
              "          if (!dataTable) return;\n",
              "\n",
              "          const docLinkHtml = 'Like what you see? Visit the ' +\n",
              "            '<a target=\"_blank\" href=https://colab.research.google.com/notebooks/data_table.ipynb>data table notebook</a>'\n",
              "            + ' to learn more about interactive tables.';\n",
              "          element.innerHTML = '';\n",
              "          dataTable['output_type'] = 'display_data';\n",
              "          await google.colab.output.renderOutput(dataTable, element);\n",
              "          const docLink = document.createElement('div');\n",
              "          docLink.innerHTML = docLinkHtml;\n",
              "          element.appendChild(docLink);\n",
              "        }\n",
              "      </script>\n",
              "    </div>\n",
              "  </div>\n",
              "  "
            ]
          },
          "metadata": {},
          "execution_count": 2
        }
      ]
    },
    {
      "cell_type": "code",
      "source": [
        "#Validamos si hay datos faltantes\n",
        "df.isnull().values.any()"
      ],
      "metadata": {
        "colab": {
          "base_uri": "https://localhost:8080/"
        },
        "id": "Lfaf18Ms9eGA",
        "outputId": "299f77c7-e7c4-43b8-fb7b-2a86fd7b7891"
      },
      "execution_count": 3,
      "outputs": [
        {
          "output_type": "execute_result",
          "data": {
            "text/plain": [
              "True"
            ]
          },
          "metadata": {},
          "execution_count": 3
        }
      ]
    },
    {
      "cell_type": "code",
      "source": [
        "#alternativamente:\n",
        "df.isna().values.any()"
      ],
      "metadata": {
        "colab": {
          "base_uri": "https://localhost:8080/"
        },
        "id": "WBVQ3tLsAVTg",
        "outputId": "98bd3a29-d645-4bf7-d928-2f49f59c44b9"
      },
      "execution_count": 4,
      "outputs": [
        {
          "output_type": "execute_result",
          "data": {
            "text/plain": [
              "True"
            ]
          },
          "metadata": {},
          "execution_count": 4
        }
      ]
    },
    {
      "cell_type": "code",
      "source": [
        "df.isnull().any()"
      ],
      "metadata": {
        "colab": {
          "base_uri": "https://localhost:8080/"
        },
        "id": "wGMyb_et9v5p",
        "outputId": "2e354278-a129-47ae-ac60-e4cd13128bf5"
      },
      "execution_count": 5,
      "outputs": [
        {
          "output_type": "execute_result",
          "data": {
            "text/plain": [
              "ID     False\n",
              "X1     False\n",
              "X2      True\n",
              "X3      True\n",
              "X4      True\n",
              "X5      True\n",
              "X6      True\n",
              "X7      True\n",
              "X8      True\n",
              "X9      True\n",
              "X10     True\n",
              "X11     True\n",
              "X12     True\n",
              "X13     True\n",
              "X14     True\n",
              "X15     True\n",
              "X16     True\n",
              "X17     True\n",
              "X18     True\n",
              "X19     True\n",
              "X20     True\n",
              "X21     True\n",
              "X22     True\n",
              "X23     True\n",
              "Y       True\n",
              "dtype: bool"
            ]
          },
          "metadata": {},
          "execution_count": 5
        }
      ]
    },
    {
      "cell_type": "markdown",
      "source": [
        "## Limpieza de datos: \n",
        "\n",
        "Observamos que hay datos faltantes desde tercera columna (X2) en adelante. Despues de analizar descripcion de cada columna realizamos la siguiente limpieza"
      ],
      "metadata": {
        "id": "XjMI77CX9-iT"
      }
    },
    {
      "cell_type": "code",
      "source": [
        "ndf = df.copy() #hacemos una copia de df para la limpieza"
      ],
      "metadata": {
        "id": "PwVYQceyJeP9"
      },
      "execution_count": 6,
      "outputs": []
    },
    {
      "cell_type": "markdown",
      "source": [
        "### ID: esta columna es irrelevante"
      ],
      "metadata": {
        "id": "33WnFyULMdKO"
      }
    },
    {
      "cell_type": "code",
      "source": [
        "ndf = ndf.drop(['ID'], axis = 1)"
      ],
      "metadata": {
        "id": "chu0uMsNMcSb"
      },
      "execution_count": 7,
      "outputs": []
    },
    {
      "cell_type": "markdown",
      "source": [
        "### X2: Gender (1 = male; 2 = female)"
      ],
      "metadata": {
        "id": "xJpAi_d8N55v"
      }
    },
    {
      "cell_type": "code",
      "source": [
        "ndf['X2'].isnull().sum() #validamos cuantos datos faltantes hay"
      ],
      "metadata": {
        "id": "UlN2gaZ_5aSY",
        "outputId": "0f6467e4-5f5f-4680-dd63-2b0d4448f8e7",
        "colab": {
          "base_uri": "https://localhost:8080/"
        }
      },
      "execution_count": 8,
      "outputs": [
        {
          "output_type": "execute_result",
          "data": {
            "text/plain": [
              "1"
            ]
          },
          "metadata": {},
          "execution_count": 8
        }
      ]
    },
    {
      "cell_type": "code",
      "source": [
        "ndf['X2'].fillna(0, inplace = True) \n",
        "#reemplazamos los datos faltantes con '0' (cero) que de ahora en adelante será: \"0=No Gender\"\n",
        "ndf['X2'].isnull().sum() #validamos cuantos datos faltantes quedaron"
      ],
      "metadata": {
        "id": "or_D2XsWOUmg",
        "outputId": "7ba8021f-044b-4d22-b914-83991b86b864",
        "colab": {
          "base_uri": "https://localhost:8080/"
        }
      },
      "execution_count": 9,
      "outputs": [
        {
          "output_type": "execute_result",
          "data": {
            "text/plain": [
              "0"
            ]
          },
          "metadata": {},
          "execution_count": 9
        }
      ]
    },
    {
      "cell_type": "markdown",
      "source": [
        "### X3: Education (1 = graduate school; 2 = university; 3 = high school; 4 = others)"
      ],
      "metadata": {
        "id": "mYOkqrM2PAQB"
      }
    },
    {
      "cell_type": "code",
      "source": [
        "ndf['X3'].isna().sum() #validamos cuantos datos faltantes hay"
      ],
      "metadata": {
        "id": "R-w-Pq1F5_jo",
        "outputId": "96b1aa8c-df51-4803-c167-35427041664e",
        "colab": {
          "base_uri": "https://localhost:8080/"
        }
      },
      "execution_count": 10,
      "outputs": [
        {
          "output_type": "execute_result",
          "data": {
            "text/plain": [
              "2"
            ]
          },
          "metadata": {},
          "execution_count": 10
        }
      ]
    },
    {
      "cell_type": "code",
      "source": [
        "mode_X3 = ndf['X3'].mode() #sacamos la moda de la columna X3\n",
        "mode_X3"
      ],
      "metadata": {
        "colab": {
          "base_uri": "https://localhost:8080/"
        },
        "id": "iRtZRq-vPFzf",
        "outputId": "fb6cf5c4-a454-4c63-9312-bdec97896173"
      },
      "execution_count": 11,
      "outputs": [
        {
          "output_type": "execute_result",
          "data": {
            "text/plain": [
              "0    2.0\n",
              "dtype: float64"
            ]
          },
          "metadata": {},
          "execution_count": 11
        }
      ]
    },
    {
      "cell_type": "code",
      "source": [
        "ndf['X3'].fillna(2,inplace=True) #reemplazamos los datos faltantes con la moda de la columna X3\n",
        "ndf['X3'].isnull().sum() #validamos cuantos datos faltantes quedaron"
      ],
      "metadata": {
        "id": "34LXCC4SRaFz",
        "outputId": "664a73b7-7669-47b4-f586-6dc91c8ed7b3",
        "colab": {
          "base_uri": "https://localhost:8080/"
        }
      },
      "execution_count": 12,
      "outputs": [
        {
          "output_type": "execute_result",
          "data": {
            "text/plain": [
              "0"
            ]
          },
          "metadata": {},
          "execution_count": 12
        }
      ]
    },
    {
      "cell_type": "code",
      "source": [
        "ndf['X3'].value_counts() # revisamos las clasificaciones que hay para esta variable"
      ],
      "metadata": {
        "colab": {
          "base_uri": "https://localhost:8080/"
        },
        "id": "Dq5rhtDdSjO5",
        "outputId": "c7e6c22c-ec08-4d91-abf6-0f5ba87d905b"
      },
      "execution_count": 13,
      "outputs": [
        {
          "output_type": "execute_result",
          "data": {
            "text/plain": [
              "2.0    14032\n",
              "1.0    10585\n",
              "3.0     4915\n",
              "5.0      280\n",
              "4.0      123\n",
              "6.0       51\n",
              "0.0       14\n",
              "Name: X3, dtype: int64"
            ]
          },
          "metadata": {},
          "execution_count": 13
        }
      ]
    },
    {
      "cell_type": "code",
      "source": [
        "ndf['X3'].replace({0:2}, inplace=True)\n",
        "ndf['X3'].replace({5:2}, inplace=True)\n",
        "ndf['X3'].replace({6:2}, inplace=True)\n",
        "ndf['X3'].value_counts() # revisamos las clasificaciones que hay para esta variable"
      ],
      "metadata": {
        "colab": {
          "base_uri": "https://localhost:8080/"
        },
        "id": "5oLjLYicTPQg",
        "outputId": "e9996481-2952-43cf-b870-f318dccf8498"
      },
      "execution_count": 14,
      "outputs": [
        {
          "output_type": "execute_result",
          "data": {
            "text/plain": [
              "2.0    14377\n",
              "1.0    10585\n",
              "3.0     4915\n",
              "4.0      123\n",
              "Name: X3, dtype: int64"
            ]
          },
          "metadata": {},
          "execution_count": 14
        }
      ]
    },
    {
      "cell_type": "markdown",
      "source": [
        "### X4: Marital status (1 = married; 2 = single; 3 = others)."
      ],
      "metadata": {
        "id": "nTS7RAe_RsrU"
      }
    },
    {
      "cell_type": "code",
      "source": [
        "ndf['X4'].isnull().sum() #validamos cuantos datos faltantes hay"
      ],
      "metadata": {
        "id": "wPsHow1q6Ptj",
        "outputId": "9c930315-231e-4b50-bc8e-51ba7aae6347",
        "colab": {
          "base_uri": "https://localhost:8080/"
        }
      },
      "execution_count": 15,
      "outputs": [
        {
          "output_type": "execute_result",
          "data": {
            "text/plain": [
              "2"
            ]
          },
          "metadata": {},
          "execution_count": 15
        }
      ]
    },
    {
      "cell_type": "code",
      "source": [
        "mode_X4 = ndf['X4'].mode() #sacamos la moda de la columna X4\n",
        "mode_X4"
      ],
      "metadata": {
        "colab": {
          "base_uri": "https://localhost:8080/"
        },
        "id": "wTUNsd7oR0R2",
        "outputId": "f0a06b92-74f6-4d84-b750-4bf8879ba661"
      },
      "execution_count": 16,
      "outputs": [
        {
          "output_type": "execute_result",
          "data": {
            "text/plain": [
              "0    2.0\n",
              "dtype: float64"
            ]
          },
          "metadata": {},
          "execution_count": 16
        }
      ]
    },
    {
      "cell_type": "code",
      "source": [
        "ndf['X4'].fillna(2,inplace=True) #reemplazamos los datos faltantes con la moda de la columna X4\n",
        "ndf['X4'].isnull().sum() #validamos cuantos datos faltantes quedaron"
      ],
      "metadata": {
        "id": "hCQLIp2ZSEg-",
        "outputId": "64a06a8c-bb1f-4c19-e864-fcc167197f8b",
        "colab": {
          "base_uri": "https://localhost:8080/"
        }
      },
      "execution_count": 17,
      "outputs": [
        {
          "output_type": "execute_result",
          "data": {
            "text/plain": [
              "0"
            ]
          },
          "metadata": {},
          "execution_count": 17
        }
      ]
    },
    {
      "cell_type": "markdown",
      "source": [
        "## X5: Age (year)"
      ],
      "metadata": {
        "id": "HWtZuq2RSUVW"
      }
    },
    {
      "cell_type": "code",
      "source": [
        "ndf['X5'].isnull().sum() #validamos cuantos datos faltantes hay"
      ],
      "metadata": {
        "id": "AFcBebfa6XA_",
        "outputId": "bf77a1b4-6cee-411b-c7b0-4bf61343e254",
        "colab": {
          "base_uri": "https://localhost:8080/"
        }
      },
      "execution_count": 18,
      "outputs": [
        {
          "output_type": "execute_result",
          "data": {
            "text/plain": [
              "5"
            ]
          },
          "metadata": {},
          "execution_count": 18
        }
      ]
    },
    {
      "cell_type": "code",
      "source": [
        "mean_X5 = ndf['X5'].mean() #sacamos el promedio de la columna X5\n",
        "mean_X5"
      ],
      "metadata": {
        "colab": {
          "base_uri": "https://localhost:8080/"
        },
        "id": "M3LRLDoYTFj1",
        "outputId": "da016af3-c8f3-4fc9-e28a-dc69742d45a8"
      },
      "execution_count": 19,
      "outputs": [
        {
          "output_type": "execute_result",
          "data": {
            "text/plain": [
              "35.484214035672615"
            ]
          },
          "metadata": {},
          "execution_count": 19
        }
      ]
    },
    {
      "cell_type": "code",
      "source": [
        "#Como la la edad es, por lo general, un número entero, redondeamos la media a treinta y cinco (35.0)\n",
        "ndf['X5'].fillna(35, inplace = True)\n",
        "\n",
        "ndf['X5'].isnull().sum() #validamos cuantos datos faltantes quedaron"
      ],
      "metadata": {
        "id": "U0HAw2TCT9C-",
        "colab": {
          "base_uri": "https://localhost:8080/"
        },
        "outputId": "f76a16c9-2417-4188-e402-bea14afba502"
      },
      "execution_count": 20,
      "outputs": [
        {
          "output_type": "execute_result",
          "data": {
            "text/plain": [
              "0"
            ]
          },
          "metadata": {},
          "execution_count": 20
        }
      ]
    },
    {
      "cell_type": "markdown",
      "source": [
        "## X6 - X11: History of past payment. We tracked the past monthly payment records (from April to September, 2005) as follows: <br>X6 = the repayment status in September, 2005;<br> X7 = the repayment status in August, 2005;<br> . . .;<br>X11 = the repayment status in April, 2005. <br>The measurement scale for the repayment status is:<br> -1 = pay duly;<br> 1 = payment delay for one month;<br> 2 = payment delay for two months;<br> . . .;<br> 8 = payment delay for eight months;<br> 9 = payment delay for nine months and above. "
      ],
      "metadata": {
        "id": "ppreZpHtU62N"
      }
    },
    {
      "cell_type": "code",
      "source": [
        "#Calculamos el numero de datos faltantes en la 6 columnas\n",
        "ndf[['X6','X7','X8','X9','X10','X11']].isnull().sum()"
      ],
      "metadata": {
        "colab": {
          "base_uri": "https://localhost:8080/"
        },
        "id": "SAlRBq4rVwsY",
        "outputId": "15ab1a6a-92d2-4b17-9eb4-a9bfea31ba07"
      },
      "execution_count": 21,
      "outputs": [
        {
          "output_type": "execute_result",
          "data": {
            "text/plain": [
              "X6      3\n",
              "X7      5\n",
              "X8      7\n",
              "X9      9\n",
              "X10    16\n",
              "X11    14\n",
              "dtype: int64"
            ]
          },
          "metadata": {},
          "execution_count": 21
        }
      ]
    },
    {
      "cell_type": "code",
      "source": [
        "#Como observamos, hay pocos datos faltantes en estas columnas por lo cual podriamos presindir sus correspondientes filas.\n",
        "ndf = ndf.dropna(subset=['X6','X7','X8','X9','X10','X11'])\n",
        "\n",
        "#Volvemos a validar cuantos datos faltantes quedaron\n",
        "ndf[['X6','X7','X8','X9','X10','X11']].isna().sum().sum()"
      ],
      "metadata": {
        "id": "DoosCv1OW9A_",
        "outputId": "57c02562-2c8c-4069-8bcc-3c9c48d40139",
        "colab": {
          "base_uri": "https://localhost:8080/"
        }
      },
      "execution_count": 22,
      "outputs": [
        {
          "output_type": "execute_result",
          "data": {
            "text/plain": [
              "0"
            ]
          },
          "metadata": {},
          "execution_count": 22
        }
      ]
    },
    {
      "cell_type": "markdown",
      "source": [
        "### X12-X17: Amount of bill statement (NT dollar). <br>X12 = amount of bill statement in September, 2005;<br> X13 = amount of bill statement in August, 2005;<br> . . .;<br> X17 = amount of bill statement in April, 2005."
      ],
      "metadata": {
        "id": "b_K2j9ij6m-s"
      }
    },
    {
      "cell_type": "code",
      "source": [
        "#Calculamos el número de datos faltantes en la 6 columnas\n",
        "ndf[['X12','X13','X14','X15','X16','X17']].isnull().sum()"
      ],
      "metadata": {
        "id": "ovsKv52DXUR1",
        "outputId": "f85ad49f-7332-4d4b-d703-bb7c5880d797",
        "colab": {
          "base_uri": "https://localhost:8080/"
        }
      },
      "execution_count": 23,
      "outputs": [
        {
          "output_type": "execute_result",
          "data": {
            "text/plain": [
              "X12    3\n",
              "X13    3\n",
              "X14    5\n",
              "X15    7\n",
              "X16    9\n",
              "X17    5\n",
              "dtype: int64"
            ]
          },
          "metadata": {},
          "execution_count": 23
        }
      ]
    },
    {
      "cell_type": "code",
      "source": [
        "#Al igual que en las anteriores columnas hay pocos datos faltantes, por lo cual podríamos presindir también sus correspondientes filas.\n",
        "ndf = ndf.dropna(subset=['X12','X13','X14','X15','X16','X17'])\n",
        "\n",
        "#Volvemos a validar cuantos datos faltantes quedaron\n",
        "ndf[['X12','X13','X14','X15','X16','X17']].isna().sum().sum()"
      ],
      "metadata": {
        "id": "fWhDMV_qJnM4",
        "outputId": "ba9e629c-60bc-4088-aacb-3a18a75d5a9c",
        "colab": {
          "base_uri": "https://localhost:8080/"
        }
      },
      "execution_count": 24,
      "outputs": [
        {
          "output_type": "execute_result",
          "data": {
            "text/plain": [
              "0"
            ]
          },
          "metadata": {},
          "execution_count": 24
        }
      ]
    },
    {
      "cell_type": "markdown",
      "source": [
        "### X18-X23: Amount of previous payment (NT dollar).<br> X18 = amount paid in September, 2005;<br> X19 = amount paid in August, 2005;<br> . . .;<br>X23 = amount paid in April, 2005. "
      ],
      "metadata": {
        "id": "S2sxMYXDKdBy"
      }
    },
    {
      "cell_type": "code",
      "source": [
        "#Calculamos el numero de datos faltantes en la 6 columnas\n",
        "ndf[['X18','X19','X20','X21','X22','X23']].isnull().sum()"
      ],
      "metadata": {
        "id": "svtiPUnUKivN",
        "outputId": "974fce0c-1e86-4965-b276-f51ff35e1bca",
        "colab": {
          "base_uri": "https://localhost:8080/"
        }
      },
      "execution_count": 25,
      "outputs": [
        {
          "output_type": "execute_result",
          "data": {
            "text/plain": [
              "X18    0\n",
              "X19    1\n",
              "X20    0\n",
              "X21    2\n",
              "X22    3\n",
              "X23    2\n",
              "dtype: int64"
            ]
          },
          "metadata": {},
          "execution_count": 25
        }
      ]
    },
    {
      "cell_type": "code",
      "source": [
        "#Mismo proceso que el anterior\n",
        "ndf = ndf.dropna(subset=['X18','X19','X20','X21','X22','X23'])\n",
        "\n",
        "#Volvemos a validar cuantos datos faltantes quedaron\n",
        "ndf[['X18','X19','X20','X21','X22','X23']].isna().sum().sum()"
      ],
      "metadata": {
        "id": "XQwEfUGGK49K",
        "outputId": "2b592fb8-a9c0-47f9-83fb-f5584e8c357d",
        "colab": {
          "base_uri": "https://localhost:8080/"
        }
      },
      "execution_count": 26,
      "outputs": [
        {
          "output_type": "execute_result",
          "data": {
            "text/plain": [
              "0"
            ]
          },
          "metadata": {},
          "execution_count": 26
        }
      ]
    },
    {
      "cell_type": "code",
      "source": [
        "ndf.isna().sum() #validamos finalmente si aún hace falta algún dato "
      ],
      "metadata": {
        "colab": {
          "base_uri": "https://localhost:8080/"
        },
        "id": "lFpQiSCCHWGk",
        "outputId": "75a89045-d3ba-4341-9270-b00ea902bf9d"
      },
      "execution_count": 27,
      "outputs": [
        {
          "output_type": "execute_result",
          "data": {
            "text/plain": [
              "X1     0\n",
              "X2     0\n",
              "X3     0\n",
              "X4     0\n",
              "X5     0\n",
              "X6     0\n",
              "X7     0\n",
              "X8     0\n",
              "X9     0\n",
              "X10    0\n",
              "X11    0\n",
              "X12    0\n",
              "X13    0\n",
              "X14    0\n",
              "X15    0\n",
              "X16    0\n",
              "X17    0\n",
              "X18    0\n",
              "X19    0\n",
              "X20    0\n",
              "X21    0\n",
              "X22    0\n",
              "X23    0\n",
              "Y      0\n",
              "dtype: int64"
            ]
          },
          "metadata": {},
          "execution_count": 27
        }
      ]
    },
    {
      "cell_type": "code",
      "source": [
        "ndf.dtypes"
      ],
      "metadata": {
        "colab": {
          "base_uri": "https://localhost:8080/"
        },
        "id": "RIoz-FnmQjlI",
        "outputId": "6df4e534-550e-41f2-faa6-04ed1c91cc9d"
      },
      "execution_count": null,
      "outputs": [
        {
          "output_type": "execute_result",
          "data": {
            "text/plain": [
              "X1       int64\n",
              "X2     float64\n",
              "X3     float64\n",
              "X4     float64\n",
              "X5     float64\n",
              "X6     float64\n",
              "X7     float64\n",
              "X8     float64\n",
              "X9     float64\n",
              "X10    float64\n",
              "X11    float64\n",
              "X12    float64\n",
              "X13    float64\n",
              "X14    float64\n",
              "X15    float64\n",
              "X16    float64\n",
              "X17    float64\n",
              "X18    float64\n",
              "X19    float64\n",
              "X20    float64\n",
              "X21    float64\n",
              "X22    float64\n",
              "X23    float64\n",
              "Y      float64\n",
              "dtype: object"
            ]
          },
          "metadata": {},
          "execution_count": 28
        }
      ]
    },
    {
      "cell_type": "code",
      "source": [
        "ndf # al final queda con 29.961 registros de 30.000, al final sólo perdimos 39 registros para el modelo."
      ],
      "metadata": {
        "colab": {
          "base_uri": "https://localhost:8080/",
          "height": 424
        },
        "id": "1rBGSV2cH0bV",
        "outputId": "ae13f76a-e48a-4ee1-bad3-b9a8e009b3bc"
      },
      "execution_count": 28,
      "outputs": [
        {
          "output_type": "execute_result",
          "data": {
            "text/plain": [
              "           X1   X2   X3   X4    X5   X6   X7   X8   X9  X10  ...      X15  \\\n",
              "0       20000  2.0  2.0  1.0  24.0  2.0  2.0 -1.0 -1.0 -2.0  ...      0.0   \n",
              "1      120000  2.0  2.0  2.0  26.0 -1.0  2.0  0.0  0.0  0.0  ...   3272.0   \n",
              "2       90000  2.0  2.0  2.0  34.0  0.0  0.0  0.0  0.0  0.0  ...  14331.0   \n",
              "3       50000  2.0  2.0  1.0  37.0  0.0  0.0  0.0  0.0  0.0  ...  28314.0   \n",
              "4       50000  1.0  2.0  1.0  57.0 -1.0  0.0 -1.0  0.0  0.0  ...  20940.0   \n",
              "...       ...  ...  ...  ...   ...  ...  ...  ...  ...  ...  ...      ...   \n",
              "29995  220000  1.0  3.0  1.0  39.0  0.0  0.0  0.0  0.0  0.0  ...  88004.0   \n",
              "29996  150000  1.0  3.0  2.0  43.0 -1.0 -1.0 -1.0 -1.0  0.0  ...   8979.0   \n",
              "29997   30000  1.0  2.0  2.0  37.0  4.0  3.0  2.0 -1.0  0.0  ...  20878.0   \n",
              "29998   80000  1.0  3.0  1.0  41.0  1.0 -1.0  0.0  0.0  0.0  ...  52774.0   \n",
              "29999   50000  1.0  2.0  1.0  46.0  0.0  0.0  0.0  0.0  0.0  ...  36535.0   \n",
              "\n",
              "           X16      X17      X18      X19      X20     X21      X22     X23  \\\n",
              "0          0.0      0.0      0.0    689.0      0.0     0.0      0.0     0.0   \n",
              "1       3455.0   3261.0      0.0   1000.0   1000.0  1000.0      0.0  2000.0   \n",
              "2      14948.0  15549.0   1518.0   1500.0   1000.0  1000.0   1000.0  5000.0   \n",
              "3      28959.0  29547.0   2000.0   2019.0   1200.0  1100.0   1069.0  1000.0   \n",
              "4      19146.0  19131.0   2000.0  36681.0  10000.0  9000.0    689.0   679.0   \n",
              "...        ...      ...      ...      ...      ...     ...      ...     ...   \n",
              "29995  31237.0  15980.0   8500.0  20000.0   5003.0  3047.0   5000.0  1000.0   \n",
              "29996   5190.0      0.0   1837.0   3526.0   8998.0   129.0      0.0     0.0   \n",
              "29997  20582.0  19357.0      0.0      0.0  22000.0  4200.0   2000.0  3100.0   \n",
              "29998  11855.0  48944.0  85900.0   3409.0   1178.0  1926.0  52964.0  1804.0   \n",
              "29999  32428.0  15313.0   2078.0   1800.0   1430.0  1000.0   1000.0  1000.0   \n",
              "\n",
              "         Y  \n",
              "0      1.0  \n",
              "1      1.0  \n",
              "2      0.0  \n",
              "3      0.0  \n",
              "4      0.0  \n",
              "...    ...  \n",
              "29995  0.0  \n",
              "29996  0.0  \n",
              "29997  1.0  \n",
              "29998  1.0  \n",
              "29999  1.0  \n",
              "\n",
              "[29961 rows x 24 columns]"
            ],
            "text/html": [
              "\n",
              "  <div id=\"df-7729a3f0-ab83-4c05-8d04-fc2c716ccf53\">\n",
              "    <div class=\"colab-df-container\">\n",
              "      <div>\n",
              "<style scoped>\n",
              "    .dataframe tbody tr th:only-of-type {\n",
              "        vertical-align: middle;\n",
              "    }\n",
              "\n",
              "    .dataframe tbody tr th {\n",
              "        vertical-align: top;\n",
              "    }\n",
              "\n",
              "    .dataframe thead th {\n",
              "        text-align: right;\n",
              "    }\n",
              "</style>\n",
              "<table border=\"1\" class=\"dataframe\">\n",
              "  <thead>\n",
              "    <tr style=\"text-align: right;\">\n",
              "      <th></th>\n",
              "      <th>X1</th>\n",
              "      <th>X2</th>\n",
              "      <th>X3</th>\n",
              "      <th>X4</th>\n",
              "      <th>X5</th>\n",
              "      <th>X6</th>\n",
              "      <th>X7</th>\n",
              "      <th>X8</th>\n",
              "      <th>X9</th>\n",
              "      <th>X10</th>\n",
              "      <th>...</th>\n",
              "      <th>X15</th>\n",
              "      <th>X16</th>\n",
              "      <th>X17</th>\n",
              "      <th>X18</th>\n",
              "      <th>X19</th>\n",
              "      <th>X20</th>\n",
              "      <th>X21</th>\n",
              "      <th>X22</th>\n",
              "      <th>X23</th>\n",
              "      <th>Y</th>\n",
              "    </tr>\n",
              "  </thead>\n",
              "  <tbody>\n",
              "    <tr>\n",
              "      <th>0</th>\n",
              "      <td>20000</td>\n",
              "      <td>2.0</td>\n",
              "      <td>2.0</td>\n",
              "      <td>1.0</td>\n",
              "      <td>24.0</td>\n",
              "      <td>2.0</td>\n",
              "      <td>2.0</td>\n",
              "      <td>-1.0</td>\n",
              "      <td>-1.0</td>\n",
              "      <td>-2.0</td>\n",
              "      <td>...</td>\n",
              "      <td>0.0</td>\n",
              "      <td>0.0</td>\n",
              "      <td>0.0</td>\n",
              "      <td>0.0</td>\n",
              "      <td>689.0</td>\n",
              "      <td>0.0</td>\n",
              "      <td>0.0</td>\n",
              "      <td>0.0</td>\n",
              "      <td>0.0</td>\n",
              "      <td>1.0</td>\n",
              "    </tr>\n",
              "    <tr>\n",
              "      <th>1</th>\n",
              "      <td>120000</td>\n",
              "      <td>2.0</td>\n",
              "      <td>2.0</td>\n",
              "      <td>2.0</td>\n",
              "      <td>26.0</td>\n",
              "      <td>-1.0</td>\n",
              "      <td>2.0</td>\n",
              "      <td>0.0</td>\n",
              "      <td>0.0</td>\n",
              "      <td>0.0</td>\n",
              "      <td>...</td>\n",
              "      <td>3272.0</td>\n",
              "      <td>3455.0</td>\n",
              "      <td>3261.0</td>\n",
              "      <td>0.0</td>\n",
              "      <td>1000.0</td>\n",
              "      <td>1000.0</td>\n",
              "      <td>1000.0</td>\n",
              "      <td>0.0</td>\n",
              "      <td>2000.0</td>\n",
              "      <td>1.0</td>\n",
              "    </tr>\n",
              "    <tr>\n",
              "      <th>2</th>\n",
              "      <td>90000</td>\n",
              "      <td>2.0</td>\n",
              "      <td>2.0</td>\n",
              "      <td>2.0</td>\n",
              "      <td>34.0</td>\n",
              "      <td>0.0</td>\n",
              "      <td>0.0</td>\n",
              "      <td>0.0</td>\n",
              "      <td>0.0</td>\n",
              "      <td>0.0</td>\n",
              "      <td>...</td>\n",
              "      <td>14331.0</td>\n",
              "      <td>14948.0</td>\n",
              "      <td>15549.0</td>\n",
              "      <td>1518.0</td>\n",
              "      <td>1500.0</td>\n",
              "      <td>1000.0</td>\n",
              "      <td>1000.0</td>\n",
              "      <td>1000.0</td>\n",
              "      <td>5000.0</td>\n",
              "      <td>0.0</td>\n",
              "    </tr>\n",
              "    <tr>\n",
              "      <th>3</th>\n",
              "      <td>50000</td>\n",
              "      <td>2.0</td>\n",
              "      <td>2.0</td>\n",
              "      <td>1.0</td>\n",
              "      <td>37.0</td>\n",
              "      <td>0.0</td>\n",
              "      <td>0.0</td>\n",
              "      <td>0.0</td>\n",
              "      <td>0.0</td>\n",
              "      <td>0.0</td>\n",
              "      <td>...</td>\n",
              "      <td>28314.0</td>\n",
              "      <td>28959.0</td>\n",
              "      <td>29547.0</td>\n",
              "      <td>2000.0</td>\n",
              "      <td>2019.0</td>\n",
              "      <td>1200.0</td>\n",
              "      <td>1100.0</td>\n",
              "      <td>1069.0</td>\n",
              "      <td>1000.0</td>\n",
              "      <td>0.0</td>\n",
              "    </tr>\n",
              "    <tr>\n",
              "      <th>4</th>\n",
              "      <td>50000</td>\n",
              "      <td>1.0</td>\n",
              "      <td>2.0</td>\n",
              "      <td>1.0</td>\n",
              "      <td>57.0</td>\n",
              "      <td>-1.0</td>\n",
              "      <td>0.0</td>\n",
              "      <td>-1.0</td>\n",
              "      <td>0.0</td>\n",
              "      <td>0.0</td>\n",
              "      <td>...</td>\n",
              "      <td>20940.0</td>\n",
              "      <td>19146.0</td>\n",
              "      <td>19131.0</td>\n",
              "      <td>2000.0</td>\n",
              "      <td>36681.0</td>\n",
              "      <td>10000.0</td>\n",
              "      <td>9000.0</td>\n",
              "      <td>689.0</td>\n",
              "      <td>679.0</td>\n",
              "      <td>0.0</td>\n",
              "    </tr>\n",
              "    <tr>\n",
              "      <th>...</th>\n",
              "      <td>...</td>\n",
              "      <td>...</td>\n",
              "      <td>...</td>\n",
              "      <td>...</td>\n",
              "      <td>...</td>\n",
              "      <td>...</td>\n",
              "      <td>...</td>\n",
              "      <td>...</td>\n",
              "      <td>...</td>\n",
              "      <td>...</td>\n",
              "      <td>...</td>\n",
              "      <td>...</td>\n",
              "      <td>...</td>\n",
              "      <td>...</td>\n",
              "      <td>...</td>\n",
              "      <td>...</td>\n",
              "      <td>...</td>\n",
              "      <td>...</td>\n",
              "      <td>...</td>\n",
              "      <td>...</td>\n",
              "      <td>...</td>\n",
              "    </tr>\n",
              "    <tr>\n",
              "      <th>29995</th>\n",
              "      <td>220000</td>\n",
              "      <td>1.0</td>\n",
              "      <td>3.0</td>\n",
              "      <td>1.0</td>\n",
              "      <td>39.0</td>\n",
              "      <td>0.0</td>\n",
              "      <td>0.0</td>\n",
              "      <td>0.0</td>\n",
              "      <td>0.0</td>\n",
              "      <td>0.0</td>\n",
              "      <td>...</td>\n",
              "      <td>88004.0</td>\n",
              "      <td>31237.0</td>\n",
              "      <td>15980.0</td>\n",
              "      <td>8500.0</td>\n",
              "      <td>20000.0</td>\n",
              "      <td>5003.0</td>\n",
              "      <td>3047.0</td>\n",
              "      <td>5000.0</td>\n",
              "      <td>1000.0</td>\n",
              "      <td>0.0</td>\n",
              "    </tr>\n",
              "    <tr>\n",
              "      <th>29996</th>\n",
              "      <td>150000</td>\n",
              "      <td>1.0</td>\n",
              "      <td>3.0</td>\n",
              "      <td>2.0</td>\n",
              "      <td>43.0</td>\n",
              "      <td>-1.0</td>\n",
              "      <td>-1.0</td>\n",
              "      <td>-1.0</td>\n",
              "      <td>-1.0</td>\n",
              "      <td>0.0</td>\n",
              "      <td>...</td>\n",
              "      <td>8979.0</td>\n",
              "      <td>5190.0</td>\n",
              "      <td>0.0</td>\n",
              "      <td>1837.0</td>\n",
              "      <td>3526.0</td>\n",
              "      <td>8998.0</td>\n",
              "      <td>129.0</td>\n",
              "      <td>0.0</td>\n",
              "      <td>0.0</td>\n",
              "      <td>0.0</td>\n",
              "    </tr>\n",
              "    <tr>\n",
              "      <th>29997</th>\n",
              "      <td>30000</td>\n",
              "      <td>1.0</td>\n",
              "      <td>2.0</td>\n",
              "      <td>2.0</td>\n",
              "      <td>37.0</td>\n",
              "      <td>4.0</td>\n",
              "      <td>3.0</td>\n",
              "      <td>2.0</td>\n",
              "      <td>-1.0</td>\n",
              "      <td>0.0</td>\n",
              "      <td>...</td>\n",
              "      <td>20878.0</td>\n",
              "      <td>20582.0</td>\n",
              "      <td>19357.0</td>\n",
              "      <td>0.0</td>\n",
              "      <td>0.0</td>\n",
              "      <td>22000.0</td>\n",
              "      <td>4200.0</td>\n",
              "      <td>2000.0</td>\n",
              "      <td>3100.0</td>\n",
              "      <td>1.0</td>\n",
              "    </tr>\n",
              "    <tr>\n",
              "      <th>29998</th>\n",
              "      <td>80000</td>\n",
              "      <td>1.0</td>\n",
              "      <td>3.0</td>\n",
              "      <td>1.0</td>\n",
              "      <td>41.0</td>\n",
              "      <td>1.0</td>\n",
              "      <td>-1.0</td>\n",
              "      <td>0.0</td>\n",
              "      <td>0.0</td>\n",
              "      <td>0.0</td>\n",
              "      <td>...</td>\n",
              "      <td>52774.0</td>\n",
              "      <td>11855.0</td>\n",
              "      <td>48944.0</td>\n",
              "      <td>85900.0</td>\n",
              "      <td>3409.0</td>\n",
              "      <td>1178.0</td>\n",
              "      <td>1926.0</td>\n",
              "      <td>52964.0</td>\n",
              "      <td>1804.0</td>\n",
              "      <td>1.0</td>\n",
              "    </tr>\n",
              "    <tr>\n",
              "      <th>29999</th>\n",
              "      <td>50000</td>\n",
              "      <td>1.0</td>\n",
              "      <td>2.0</td>\n",
              "      <td>1.0</td>\n",
              "      <td>46.0</td>\n",
              "      <td>0.0</td>\n",
              "      <td>0.0</td>\n",
              "      <td>0.0</td>\n",
              "      <td>0.0</td>\n",
              "      <td>0.0</td>\n",
              "      <td>...</td>\n",
              "      <td>36535.0</td>\n",
              "      <td>32428.0</td>\n",
              "      <td>15313.0</td>\n",
              "      <td>2078.0</td>\n",
              "      <td>1800.0</td>\n",
              "      <td>1430.0</td>\n",
              "      <td>1000.0</td>\n",
              "      <td>1000.0</td>\n",
              "      <td>1000.0</td>\n",
              "      <td>1.0</td>\n",
              "    </tr>\n",
              "  </tbody>\n",
              "</table>\n",
              "<p>29961 rows × 24 columns</p>\n",
              "</div>\n",
              "      <button class=\"colab-df-convert\" onclick=\"convertToInteractive('df-7729a3f0-ab83-4c05-8d04-fc2c716ccf53')\"\n",
              "              title=\"Convert this dataframe to an interactive table.\"\n",
              "              style=\"display:none;\">\n",
              "        \n",
              "  <svg xmlns=\"http://www.w3.org/2000/svg\" height=\"24px\"viewBox=\"0 0 24 24\"\n",
              "       width=\"24px\">\n",
              "    <path d=\"M0 0h24v24H0V0z\" fill=\"none\"/>\n",
              "    <path d=\"M18.56 5.44l.94 2.06.94-2.06 2.06-.94-2.06-.94-.94-2.06-.94 2.06-2.06.94zm-11 1L8.5 8.5l.94-2.06 2.06-.94-2.06-.94L8.5 2.5l-.94 2.06-2.06.94zm10 10l.94 2.06.94-2.06 2.06-.94-2.06-.94-.94-2.06-.94 2.06-2.06.94z\"/><path d=\"M17.41 7.96l-1.37-1.37c-.4-.4-.92-.59-1.43-.59-.52 0-1.04.2-1.43.59L10.3 9.45l-7.72 7.72c-.78.78-.78 2.05 0 2.83L4 21.41c.39.39.9.59 1.41.59.51 0 1.02-.2 1.41-.59l7.78-7.78 2.81-2.81c.8-.78.8-2.07 0-2.86zM5.41 20L4 18.59l7.72-7.72 1.47 1.35L5.41 20z\"/>\n",
              "  </svg>\n",
              "      </button>\n",
              "      \n",
              "  <style>\n",
              "    .colab-df-container {\n",
              "      display:flex;\n",
              "      flex-wrap:wrap;\n",
              "      gap: 12px;\n",
              "    }\n",
              "\n",
              "    .colab-df-convert {\n",
              "      background-color: #E8F0FE;\n",
              "      border: none;\n",
              "      border-radius: 50%;\n",
              "      cursor: pointer;\n",
              "      display: none;\n",
              "      fill: #1967D2;\n",
              "      height: 32px;\n",
              "      padding: 0 0 0 0;\n",
              "      width: 32px;\n",
              "    }\n",
              "\n",
              "    .colab-df-convert:hover {\n",
              "      background-color: #E2EBFA;\n",
              "      box-shadow: 0px 1px 2px rgba(60, 64, 67, 0.3), 0px 1px 3px 1px rgba(60, 64, 67, 0.15);\n",
              "      fill: #174EA6;\n",
              "    }\n",
              "\n",
              "    [theme=dark] .colab-df-convert {\n",
              "      background-color: #3B4455;\n",
              "      fill: #D2E3FC;\n",
              "    }\n",
              "\n",
              "    [theme=dark] .colab-df-convert:hover {\n",
              "      background-color: #434B5C;\n",
              "      box-shadow: 0px 1px 3px 1px rgba(0, 0, 0, 0.15);\n",
              "      filter: drop-shadow(0px 1px 2px rgba(0, 0, 0, 0.3));\n",
              "      fill: #FFFFFF;\n",
              "    }\n",
              "  </style>\n",
              "\n",
              "      <script>\n",
              "        const buttonEl =\n",
              "          document.querySelector('#df-7729a3f0-ab83-4c05-8d04-fc2c716ccf53 button.colab-df-convert');\n",
              "        buttonEl.style.display =\n",
              "          google.colab.kernel.accessAllowed ? 'block' : 'none';\n",
              "\n",
              "        async function convertToInteractive(key) {\n",
              "          const element = document.querySelector('#df-7729a3f0-ab83-4c05-8d04-fc2c716ccf53');\n",
              "          const dataTable =\n",
              "            await google.colab.kernel.invokeFunction('convertToInteractive',\n",
              "                                                     [key], {});\n",
              "          if (!dataTable) return;\n",
              "\n",
              "          const docLinkHtml = 'Like what you see? Visit the ' +\n",
              "            '<a target=\"_blank\" href=https://colab.research.google.com/notebooks/data_table.ipynb>data table notebook</a>'\n",
              "            + ' to learn more about interactive tables.';\n",
              "          element.innerHTML = '';\n",
              "          dataTable['output_type'] = 'display_data';\n",
              "          await google.colab.output.renderOutput(dataTable, element);\n",
              "          const docLink = document.createElement('div');\n",
              "          docLink.innerHTML = docLinkHtml;\n",
              "          element.appendChild(docLink);\n",
              "        }\n",
              "      </script>\n",
              "    </div>\n",
              "  </div>\n",
              "  "
            ]
          },
          "metadata": {},
          "execution_count": 28
        }
      ]
    },
    {
      "cell_type": "markdown",
      "source": [
        "#Parte 3: Preparación de los datos\n",
        "\n",
        "1.  **¿Qué datos considero mas importantes? ¿Por qué?**\n",
        "\n",
        "Consideramos que los datos más importantes se encuentran dentro de las columnas X6 hasta la columna X23, debido a que ‘Historial de pagos pasados’, ‘Estado de cuenta’ y ‘Monto del pago anterior’ pueden dar una explicación del comportamiento de la persona junto con sus hábitos crediticios y financieros, por lo cual, después de validar que la información faltante de estos registros era muy poco proporcionalmente al total de registros, decidimos eliminarlos ya que desde nuestro punto de vista aumentaría la precisión dentro de la predicción.<br>\n",
        "\n",
        "2.  **¿Se eliminaron o reemplazaron datos nulos? ¿Qué se hizo y por qué?**\n",
        "\n",
        "Primeramente, con respecto a la variable 'X2: Gender' se creó una tercera clasificación nueva aparte de 'Male' y 'Female' con el numero cero '0' que se llamará: 'No Gender'.<br>\n",
        "Además, para la variable 'X3: Education' y para la variable 'X4: Marital status', se determinó la moda para saber cuáles son los datos que más se repiten (moda) y se remplazó los datos faltantes por estos respectivamente.<br>\n",
        "También, para la variable 'X5: Age (year)' se calculó la mediana, y luego se redondeó este dato para remplazarlo por los nulos.<br>\n",
        "Por otra parte, para el resto de las variables se decidió eliminar las filas donde existía algún dato faltante, debido a que nos parecieron variables significativas para el modelo.<br>\n",
        "\n",
        "\n",
        "3. **¿Es necesario ordenar los datos para el análisis? Sí / No / ¿Por qué?**\n",
        "\n",
        "Desde un punto analítico, no es necesario organizar los datos para el análisis, puesto a que cada variable tiene un registro independiente entre los otros datos, y además mediante gráficas podemos generar un análisis por clasificaciones.<br>\n",
        "\n",
        "4.  **¿Existen problemas de formato que deban solucionar antes del proceso de modelado? Sí / No / Por qué.**\n",
        "\n",
        "Entre los datos no hay problemas de formato los cuales se deban de solucionar, los registros coinciden con el resto de sus registros para cada columna respectivamente.<br>\n",
        "\n",
        "5.  **¿Qué ajustes se realizaron en el proceso de limpieza de datos (agregar, integrar, eliminar, modificar registros (filas), cambiar atributos (columnas)?**\n",
        "\n",
        "Para comenzar, se eliminó la columna 'X1:ID' debido a que esta columna nos pareció irrelevante para el modelo.<br>\n",
        "También, Para la variable 'X3: Education', se encontró que dentro las clasificaciones las cuales son: 1 = graduate school, 2 = university, 3 = high school, y 4 = others; había otras dos más que no encajaban las cuales eran 0, 5 y 6, estas últimas tres se remplazaron con la moda que, para estos datos, esta variable era '2'.<br>\n",
        "Además, se eliminaron los registros para las columnas que van de 'X6' a 'X23' las cuales me parecieron relevantes para el modelo y con información faltante podría afectar el entrenamiento.<br>\n",
        "\n",
        "\n",
        "\n",
        "\n",
        "\n",
        "\n",
        "\n",
        "\n",
        "\n",
        "\n"
      ],
      "metadata": {
        "id": "XILhOCEfJFWR"
      }
    },
    {
      "cell_type": "code",
      "source": [],
      "metadata": {
        "id": "kgMEe3Nqfmze"
      },
      "execution_count": null,
      "outputs": []
    }
  ]
}