{
 "cells": [
  {
   "cell_type": "markdown",
   "id": "fca74018",
   "metadata": {},
   "source": [
    "<h3>Alumno: Daniela Parra García</h3>\n",
    "<h3>Matricula: A01633687</h3>"
   ]
  },
  {
   "cell_type": "markdown",
   "id": "6eeb9b72",
   "metadata": {},
   "source": [
    "# Notes"
   ]
  },
  {
   "cell_type": "markdown",
   "id": "455ed322",
   "metadata": {},
   "source": [
    "<h3>Reading Files</h3>"
   ]
  },
  {
   "cell_type": "markdown",
   "id": "a87aa385",
   "metadata": {},
   "source": [
    "<p>Open a file: <br>\n",
    "file = open('file.txt', \"r\") <br>\n",
    "\"r\" = read <br>\n",
    "\"w\" = write <br> \n",
    "\"a\" = append <br> <br>\n",
    "Read the content of a file:<br>\n",
    "file.read() <br> <br>\n",
    "Read a single line of a file: <br>\n",
    "file.readline() <br> <br>\n",
    "Read all the lines of a file: <br>\n",
    "file.readlines() <br> <br>\n",
    "Close a file: <br>\n",
    "file.close() <br> <br>\n",
    "    \n",
    "Safer way to open a file: <br>\n",
    "    with open(\"file.txt\") as File:<br>\n",
    "</p>"
   ]
  },
  {
   "cell_type": "markdown",
   "id": "c8ee7cf2",
   "metadata": {},
   "source": [
    "<h3>Writing Files</h3>"
   ]
  },
  {
   "cell_type": "markdown",
   "id": "de9a1ef1",
   "metadata": {},
   "source": [
    "<p>\n",
    "Open a file to write: <br>\n",
    "file = open('file.txt', \"w\")<br><br>\n",
    "    \n",
    "Write text in file: <br>\n",
    "file.write(\"text\") <br> <br>\n",
    "    \n",
    "Write text at the end of a file: <br>\n",
    "    file.append(\"text\")<br><br>\n",
    "    \n",
    "<p/>"
   ]
  },
  {
   "cell_type": "markdown",
   "id": "eec24e82",
   "metadata": {},
   "source": [
    "<h3>Pandas</h3>"
   ]
  },
  {
   "cell_type": "markdown",
   "id": "c56fde62",
   "metadata": {},
   "source": [
    "<p>\n",
    "Import pandas: <br>\n",
    "import pandas as pd <br><br>\n",
    "\n",
    "Create Data Frame: <br>\n",
    "df = pd.DataFrame({'a':[0,1,2], 'b':[2,3,4], 'c':[3,4,5]})<br><br>\n",
    "    \n",
    "Obtain and show the fir:<br>\n",
    "df['a'].unique()<br><br> \n",
    "    \n",
    "Obtain unique values from specific column:<br>\n",
    "df['a'].unique()<br><br> \n",
    "    \n",
    "Obtain data from specific column:<br>\n",
    "df['a']<br><br>\n",
    "    \n",
    "Obtain data from specific row and column:<br>\n",
    "df.iloc[0,2]<br>\n",
    "df.iloc[row,column]<br>\n",
    "df.loc[0,'a']<br>\n",
    "df.loc[row,column]<br><br>\n",
    "\n",
    "Slicing:<br>\n",
    "df.iloc[0:1, 0:2] <br>\n",
    "df.iloc[rows, columns] <br><br>\n",
    "df.loc[0:1, 'a':'b'] <br>\n",
    "df.loc[rows, columns] <br><br>\n",
    "  \n",
    "Read data from a csv file and save it in a dataframe:<br>\n",
    "df: pd.read_csv(\"file.csv\")<br><br>\n",
    "    \n",
    "Save dataframe to a csv file_:<br>\n",
    "df.to_csv(\"file.csv\")<br><br>\n",
    "   \n",
    "<br>\n",
    "</p>"
   ]
  },
  {
   "cell_type": "code",
   "execution_count": null,
   "id": "1ee40c76",
   "metadata": {},
   "outputs": [],
   "source": []
  }
 ],
 "metadata": {
  "kernelspec": {
   "display_name": "Python 3 (ipykernel)",
   "language": "python",
   "name": "python3"
  },
  "language_info": {
   "codemirror_mode": {
    "name": "ipython",
    "version": 3
   },
   "file_extension": ".py",
   "mimetype": "text/x-python",
   "name": "python",
   "nbconvert_exporter": "python",
   "pygments_lexer": "ipython3",
   "version": "3.9.12"
  }
 },
 "nbformat": 4,
 "nbformat_minor": 5
}
