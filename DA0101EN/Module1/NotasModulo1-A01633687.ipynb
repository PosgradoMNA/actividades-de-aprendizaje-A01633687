{
 "cells": [
  {
   "cell_type": "markdown",
   "id": "21882e2f",
   "metadata": {},
   "source": [
    "<h3>Alumno: Daniela Parra García</h3>\n",
    "<h3>Matricula: A01633687</h3>"
   ]
  },
  {
   "cell_type": "markdown",
   "id": "2aeed798",
   "metadata": {},
   "source": [
    "# Notes"
   ]
  },
  {
   "cell_type": "markdown",
   "id": "d9345180",
   "metadata": {},
   "source": [
    "<h3>Scientifics Computing Libraries in Python</h3>"
   ]
  },
  {
   "cell_type": "markdown",
   "id": "20ad77b2",
   "metadata": {},
   "source": [
    "1. Scientifics Computing:\n",
    "<ul>\n",
    "<li>Pandas (Data structures & tools)</li>\n",
    "<li>NumPy (Arrays & matrices)</li>\n",
    "<li>SciPy (Integrals, solving differential equations, optimization)</li>\n",
    "</ul>\n",
    "\n",
    "2. Visualization:\n",
    "<ul>\n",
    "<li>Matplotlib (plots & graphs, most popular)</li>\n",
    "<li>Seaborn (plots: heat maps, time series, violin plots)</li>\n",
    "</ul>\n",
    "\n",
    "3. Algorithmic:\n",
    "<ul>\n",
    "<li>Scikit-learn (Machine Learning : regression, classification,...)</li>\n",
    "<li>Statsmodels (Explore data, estimate statistical models, and perform statistical test.)</li>\n",
    "</ul>"
   ]
  },
  {
   "cell_type": "markdown",
   "id": "0445b2db",
   "metadata": {},
   "source": [
    "<h2>Importing and Exporting Data in Python</h2>"
   ]
  },
  {
   "cell_type": "markdown",
   "id": "8b6fb30a",
   "metadata": {},
   "source": [
    "Import CSV to dataframe in Python: <br>\n",
    "import pandas as pd<br>\n",
    "url = \"https://archive.edu/imports-85.data\"<br>\n",
    "df = pd.read_csv(url)<br>\n",
    "When the file does not have a header: (pandas assigns a number as the names of the columns)<br>\n",
    "df = pd.read_csv(url, headedr = None)<br>\n",
    "CSV:<br>\n",
    "pd.read_csv(path)<br>\n",
    "JSON:<br>\n",
    "pd.read_json(path)<br>\n",
    "Excel:<br>\n",
    "pd.read_excel(path)<br>\n",
    "SQL:<br>\n",
    "pd.read_sql(path)<br>\n",
    "<br>\n",
    "See headers:<br>\n",
    "df.columns<br>\n",
    "Add headers:<br>\n",
    "headers = [\"Name\", \"Number\", \"Title\"]<br>\n",
    "df.columns = headers<br>\n",
    "<br>\n",
    "Print all the dataframe:<br>\n",
    "df<br>\n",
    "Print the first n rows in the dataframe:<br>\n",
    "df.head(n)<br>\n",
    "Print the last n rows on the dataframe:<br>\n",
    "df.tail(n)<br>\n",
    "<br>\n",
    "Export dataframe in Python: <br>\n",
    "path= \"C:\\Windows\\... \\newFileName.csv\" <br>\n",
    "CSV:<br>\n",
    "df.to_csv(path)<br>\n",
    "JSON:<br>\n",
    "df.to_json(path)<br>\n",
    "Excel:<br>\n",
    "df.to_excel(path)<br>\n",
    "SQL:<br>\n",
    "df.to_sql(path)<br>"
   ]
  },
  {
   "cell_type": "markdown",
   "id": "38dac8dc",
   "metadata": {},
   "source": [
    "Check data types:<br>\n",
    "df.dtypes<br>\n",
    "Check statistical summary: (returns count, mean, std, min, max, límite de cada uno de los cuartiles)<br>\n",
    "df.describe()<br>\n",
    "Check full statistical summary: (returns the previous ones plus unique, top, freq)<br>\n",
    "df.describe(include=\"all\")<br>\n",
    "Get a concise summary of your DataFrame:(shows 30 top rows and 30 bottom rows)<br>\n",
    "df.info()<br>"
   ]
  }
 ],
 "metadata": {
  "kernelspec": {
   "display_name": "Python 3 (ipykernel)",
   "language": "python",
   "name": "python3"
  },
  "language_info": {
   "codemirror_mode": {
    "name": "ipython",
    "version": 3
   },
   "file_extension": ".py",
   "mimetype": "text/x-python",
   "name": "python",
   "nbconvert_exporter": "python",
   "pygments_lexer": "ipython3",
   "version": "3.9.12"
  }
 },
 "nbformat": 4,
 "nbformat_minor": 5
}
