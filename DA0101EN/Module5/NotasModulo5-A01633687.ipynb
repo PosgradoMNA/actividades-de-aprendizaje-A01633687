{
 "cells": [
  {
   "cell_type": "markdown",
   "id": "8c440ed2",
   "metadata": {},
   "source": [
    "<h3>Alumno: Daniela Parra García</h3>\n",
    "<h3>Matricula: A01633687</h3>"
   ]
  },
  {
   "cell_type": "markdown",
   "id": "0a0e3f79",
   "metadata": {},
   "source": [
    "# Notes Module 4"
   ]
  },
  {
   "cell_type": "markdown",
   "id": "bb521831",
   "metadata": {},
   "source": [
    "**Model Evaluation** <br><br>\n",
    "Split data into random train and test subsets:<br>\n",
    "from sklearn.model_selection import train_test_split<br>\n",
    "x_train, x_test, y_train, y_test = train_test_split(x_data, y_data, test_size=0.10, random_state=1)<br>\n",
    "x_data is the features or independent variables<br>\n",
    "y_data is the dataset target<br>\n",
    "x_train, y_train are parts of available data as training set<br>\n",
    "x_test, y_test are parts of available data as testing set<br>\n",
    "<br>\n",
    "Generalization Performance:<br>\n",
    "Generalization error is a measure of how well our data does at predicting previously unseen data.<br>\n",
    "<br>\n",
    "**Cross-validation:**<br>\n",
    "One of the most common out-of-sample evaluation metrics.<br>\n",
    "from sklearn.model_selection import cross_val_score<br>\n",
    "cross_val_score(typeOfModel, predictorVariableData, targetVariableData, cv=numOfPartitions)<br>\n",
    "example: scores = cross_val_score(lr, x_data, y_data, cv=3)<br>\n",
    "<br>"
   ]
  },
  {
   "cell_type": "markdown",
   "id": "7370720e",
   "metadata": {},
   "source": [
    "Overfitting:<br>\n",
    "The model is too flexible and fits the noise rather.<br><br>\n",
    "Underfitting: <br>\n",
    "The model is too simple to fit the data.<br>\n"
   ]
  },
  {
   "cell_type": "markdown",
   "id": "0f600fa4",
   "metadata": {},
   "source": [
    "**Ridge Regression:**<br>\n",
    "Helps to prevent over-fitting.<br>\n",
    "from sklearn.linear_model import Ridge<br>\n",
    "RigeModel=Ridge(alpha=1)<br>\n",
    "RigeModel.fit(x, y)<br>\n",
    "yhat = RigeModel.predict(x)<br>\n"
   ]
  },
  {
   "cell_type": "markdown",
   "id": "5a8b02cb",
   "metadata": {},
   "source": [
    "**Grid Search:**<br>\n",
    "Allows us to scan through multiple free parameters with few lines of code.<br>\n",
    "<br>\n",
    "from sklearn.model_selection import GridSearchCV<br>\n",
    "<br>\n",
    "parameters= [{'alpha': [1, 10, 100, 1000]}]<br>\n",
    "RR=Ridge()<br>\n",
    "Grid1 = GridSearchCV(RR, parameters,cv=4)<br>\n",
    "Grid1.fit(x_data[['horsepower', 'curb-weight', 'engine-size', 'highway-mpg']], y_data)<br>\n",
    "<br>\n",
    "Find the best values for the free parameters:<br>\n",
    "Grid1.best_estimator_<br>\n",
    "Get information on the validation data (like mean score):<br>\n",
    "Grid1.cv_results_<br>\n"
   ]
  },
  {
   "cell_type": "markdown",
   "id": "4e4ae688",
   "metadata": {},
   "source": []
  }
 ],
 "metadata": {
  "kernelspec": {
   "display_name": "Python 3 (ipykernel)",
   "language": "python",
   "name": "python3"
  },
  "language_info": {
   "codemirror_mode": {
    "name": "ipython",
    "version": 3
   },
   "file_extension": ".py",
   "mimetype": "text/x-python",
   "name": "python",
   "nbconvert_exporter": "python",
   "pygments_lexer": "ipython3",
   "version": "3.9.12"
  }
 },
 "nbformat": 4,
 "nbformat_minor": 5
}
